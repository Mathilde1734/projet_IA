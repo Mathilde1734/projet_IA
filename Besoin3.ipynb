{
 "cells": [
  {
   "cell_type": "markdown",
   "metadata": {},
   "source": [
    "# Projet Intelligence Artificielle"
   ]
  },
  {
   "cell_type": "markdown",
   "metadata": {},
   "source": [
    "## Besoin client 3 : Système d'alerte pour les tempêtes"
   ]
  },
  {
   "cell_type": "markdown",
   "metadata": {},
   "source": [
    "### Préparation des données"
   ]
  },
  {
   "cell_type": "code",
   "execution_count": 54,
   "metadata": {},
   "outputs": [],
   "source": [
    "# Importation des librairies nécessaires\n",
    "\n",
    "import pandas as pd\n",
    "import numpy as np\n",
    "from sklearn.preprocessing import OrdinalEncoder\n",
    "from sklearn.ensemble import RandomForestClassifier\n",
    "from sklearn.model_selection import GridSearchCV\n",
    "from sklearn.model_selection import cross_val_score\n",
    "from sklearn.model_selection import cross_val_predict\n",
    "from sklearn.metrics import confusion_matrix\n",
    "from sklearn.model_selection import train_test_split\n",
    "from sklearn.neural_network import MLPClassifier\n",
    "import pickle as pk"
   ]
  },
  {
   "cell_type": "code",
   "execution_count": 55,
   "metadata": {},
   "outputs": [],
   "source": [
    "# Importation des bases de données \n",
    "data_prof = pd.read_csv('./Données/Data_Arbre.csv')\n",
    "data_clean = pd.read_csv(\"./Données/data_clean.csv\", encoding='utf-8', sep=\";\", decimal=\",\")"
   ]
  },
  {
   "cell_type": "code",
   "execution_count": 56,
   "metadata": {},
   "outputs": [],
   "source": [
    "# Affichage des premières lignes des données \n",
    "# data_prof.head()\n"
   ]
  },
  {
   "cell_type": "code",
   "execution_count": 57,
   "metadata": {},
   "outputs": [
    {
     "data": {
      "text/html": [
       "<div>\n",
       "<style scoped>\n",
       "    .dataframe tbody tr th:only-of-type {\n",
       "        vertical-align: middle;\n",
       "    }\n",
       "\n",
       "    .dataframe tbody tr th {\n",
       "        vertical-align: top;\n",
       "    }\n",
       "\n",
       "    .dataframe thead th {\n",
       "        text-align: right;\n",
       "    }\n",
       "</style>\n",
       "<table border=\"1\" class=\"dataframe\">\n",
       "  <thead>\n",
       "    <tr style=\"text-align: right;\">\n",
       "      <th></th>\n",
       "      <th>X</th>\n",
       "      <th>Y</th>\n",
       "      <th>OBJECTID</th>\n",
       "      <th>created_date</th>\n",
       "      <th>created_user</th>\n",
       "      <th>src_geo</th>\n",
       "      <th>clc_quartier</th>\n",
       "      <th>clc_secteur</th>\n",
       "      <th>id_arbre</th>\n",
       "      <th>haut_tot</th>\n",
       "      <th>...</th>\n",
       "      <th>nomfrancais</th>\n",
       "      <th>GlobalID</th>\n",
       "      <th>CreationDate</th>\n",
       "      <th>Creator</th>\n",
       "      <th>EditDate</th>\n",
       "      <th>Editor</th>\n",
       "      <th>feuillage</th>\n",
       "      <th>remarquable</th>\n",
       "      <th>lon</th>\n",
       "      <th>lat</th>\n",
       "    </tr>\n",
       "  </thead>\n",
       "  <tbody>\n",
       "    <tr>\n",
       "      <th>0</th>\n",
       "      <td>1.720320e+06</td>\n",
       "      <td>8.294619e+06</td>\n",
       "      <td>1</td>\n",
       "      <td>2017-02-02</td>\n",
       "      <td>mickael.delaere</td>\n",
       "      <td>Orthophoto</td>\n",
       "      <td>Quartier du Centre-Ville</td>\n",
       "      <td>Boulevard Richelieu</td>\n",
       "      <td>24.0</td>\n",
       "      <td>0.0</td>\n",
       "      <td>...</td>\n",
       "      <td>RAS</td>\n",
       "      <td>{476EB2CE-1FD4-4F89-8162-79D75651225A}</td>\n",
       "      <td>2018-01-15</td>\n",
       "      <td>mickael.delaere</td>\n",
       "      <td>2018-01-15</td>\n",
       "      <td>mickael.delaere</td>\n",
       "      <td>NaN</td>\n",
       "      <td>Non</td>\n",
       "      <td>3.282540</td>\n",
       "      <td>49.850458</td>\n",
       "    </tr>\n",
       "    <tr>\n",
       "      <th>1</th>\n",
       "      <td>1.720898e+06</td>\n",
       "      <td>8.293531e+06</td>\n",
       "      <td>2</td>\n",
       "      <td>2017-02-02</td>\n",
       "      <td>mickael.delaere</td>\n",
       "      <td>Orthophoto</td>\n",
       "      <td>Quartier du Centre-Ville</td>\n",
       "      <td>Boulevard Léon Blum</td>\n",
       "      <td>24.0</td>\n",
       "      <td>0.0</td>\n",
       "      <td>...</td>\n",
       "      <td>RAS</td>\n",
       "      <td>{B5A9F630-92C5-4B8A-A934-0CABDA46085E}</td>\n",
       "      <td>2018-01-15</td>\n",
       "      <td>mickael.delaere</td>\n",
       "      <td>2018-01-15</td>\n",
       "      <td>mickael.delaere</td>\n",
       "      <td>NaN</td>\n",
       "      <td>Non</td>\n",
       "      <td>3.290521</td>\n",
       "      <td>49.840654</td>\n",
       "    </tr>\n",
       "    <tr>\n",
       "      <th>2</th>\n",
       "      <td>1.720894e+06</td>\n",
       "      <td>8.293542e+06</td>\n",
       "      <td>3</td>\n",
       "      <td>2017-02-02</td>\n",
       "      <td>mickael.delaere</td>\n",
       "      <td>Orthophoto</td>\n",
       "      <td>Quartier du Centre-Ville</td>\n",
       "      <td>Boulevard Léon Blum</td>\n",
       "      <td>53.0</td>\n",
       "      <td>0.0</td>\n",
       "      <td>...</td>\n",
       "      <td>RAS</td>\n",
       "      <td>{F5914EAD-05CD-4ADF-A7C9-55EFF91B2ABE}</td>\n",
       "      <td>2018-01-15</td>\n",
       "      <td>mickael.delaere</td>\n",
       "      <td>2018-01-15</td>\n",
       "      <td>mickael.delaere</td>\n",
       "      <td>NaN</td>\n",
       "      <td>Non</td>\n",
       "      <td>3.290460</td>\n",
       "      <td>49.840756</td>\n",
       "    </tr>\n",
       "    <tr>\n",
       "      <th>3</th>\n",
       "      <td>1.720902e+06</td>\n",
       "      <td>8.293545e+06</td>\n",
       "      <td>4</td>\n",
       "      <td>2017-02-02</td>\n",
       "      <td>mickael.delaere</td>\n",
       "      <td>Orthophoto</td>\n",
       "      <td>Quartier du Centre-Ville</td>\n",
       "      <td>Boulevard Léon Blum</td>\n",
       "      <td>54.0</td>\n",
       "      <td>0.0</td>\n",
       "      <td>...</td>\n",
       "      <td>RAS</td>\n",
       "      <td>{41168E06-B7C0-43CD-B8FE-7495B6E93AB5}</td>\n",
       "      <td>2018-01-15</td>\n",
       "      <td>mickael.delaere</td>\n",
       "      <td>2018-01-15</td>\n",
       "      <td>mickael.delaere</td>\n",
       "      <td>NaN</td>\n",
       "      <td>Non</td>\n",
       "      <td>3.290568</td>\n",
       "      <td>49.840783</td>\n",
       "    </tr>\n",
       "    <tr>\n",
       "      <th>4</th>\n",
       "      <td>1.721089e+06</td>\n",
       "      <td>8.293619e+06</td>\n",
       "      <td>5</td>\n",
       "      <td>2017-02-02</td>\n",
       "      <td>mickael.delaere</td>\n",
       "      <td>Orthophoto</td>\n",
       "      <td>Quartier du Centre-Ville</td>\n",
       "      <td>Boulevard Léon Blum</td>\n",
       "      <td>63.0</td>\n",
       "      <td>0.0</td>\n",
       "      <td>...</td>\n",
       "      <td>RAS</td>\n",
       "      <td>{4F0E4B12-4612-4F61-9911-43684831FD7D}</td>\n",
       "      <td>2018-01-15</td>\n",
       "      <td>mickael.delaere</td>\n",
       "      <td>2018-01-15</td>\n",
       "      <td>mickael.delaere</td>\n",
       "      <td>NaN</td>\n",
       "      <td>Non</td>\n",
       "      <td>3.293178</td>\n",
       "      <td>49.841441</td>\n",
       "    </tr>\n",
       "  </tbody>\n",
       "</table>\n",
       "<p>5 rows × 37 columns</p>\n",
       "</div>"
      ],
      "text/plain": [
       "              X             Y  OBJECTID created_date     created_user  \\\n",
       "0  1.720320e+06  8.294619e+06         1   2017-02-02  mickael.delaere   \n",
       "1  1.720898e+06  8.293531e+06         2   2017-02-02  mickael.delaere   \n",
       "2  1.720894e+06  8.293542e+06         3   2017-02-02  mickael.delaere   \n",
       "3  1.720902e+06  8.293545e+06         4   2017-02-02  mickael.delaere   \n",
       "4  1.721089e+06  8.293619e+06         5   2017-02-02  mickael.delaere   \n",
       "\n",
       "      src_geo              clc_quartier          clc_secteur  id_arbre  \\\n",
       "0  Orthophoto  Quartier du Centre-Ville  Boulevard Richelieu      24.0   \n",
       "1  Orthophoto  Quartier du Centre-Ville  Boulevard Léon Blum      24.0   \n",
       "2  Orthophoto  Quartier du Centre-Ville  Boulevard Léon Blum      53.0   \n",
       "3  Orthophoto  Quartier du Centre-Ville  Boulevard Léon Blum      54.0   \n",
       "4  Orthophoto  Quartier du Centre-Ville  Boulevard Léon Blum      63.0   \n",
       "\n",
       "   haut_tot  ...  nomfrancais                                GlobalID  \\\n",
       "0       0.0  ...          RAS  {476EB2CE-1FD4-4F89-8162-79D75651225A}   \n",
       "1       0.0  ...          RAS  {B5A9F630-92C5-4B8A-A934-0CABDA46085E}   \n",
       "2       0.0  ...          RAS  {F5914EAD-05CD-4ADF-A7C9-55EFF91B2ABE}   \n",
       "3       0.0  ...          RAS  {41168E06-B7C0-43CD-B8FE-7495B6E93AB5}   \n",
       "4       0.0  ...          RAS  {4F0E4B12-4612-4F61-9911-43684831FD7D}   \n",
       "\n",
       "  CreationDate          Creator    EditDate           Editor feuillage  \\\n",
       "0   2018-01-15  mickael.delaere  2018-01-15  mickael.delaere       NaN   \n",
       "1   2018-01-15  mickael.delaere  2018-01-15  mickael.delaere       NaN   \n",
       "2   2018-01-15  mickael.delaere  2018-01-15  mickael.delaere       NaN   \n",
       "3   2018-01-15  mickael.delaere  2018-01-15  mickael.delaere       NaN   \n",
       "4   2018-01-15  mickael.delaere  2018-01-15  mickael.delaere       NaN   \n",
       "\n",
       "  remarquable       lon        lat  \n",
       "0         Non  3.282540  49.850458  \n",
       "1         Non  3.290521  49.840654  \n",
       "2         Non  3.290460  49.840756  \n",
       "3         Non  3.290568  49.840783  \n",
       "4         Non  3.293178  49.841441  \n",
       "\n",
       "[5 rows x 37 columns]"
      ]
     },
     "execution_count": 57,
     "metadata": {},
     "output_type": "execute_result"
    }
   ],
   "source": [
    "# Affichage des premières lignes des données de notre base de données\n",
    "data_clean.head()"
   ]
  },
  {
   "cell_type": "code",
   "execution_count": 58,
   "metadata": {},
   "outputs": [
    {
     "data": {
      "text/html": [
       "<div>\n",
       "<style scoped>\n",
       "    .dataframe tbody tr th:only-of-type {\n",
       "        vertical-align: middle;\n",
       "    }\n",
       "\n",
       "    .dataframe tbody tr th {\n",
       "        vertical-align: top;\n",
       "    }\n",
       "\n",
       "    .dataframe thead th {\n",
       "        text-align: right;\n",
       "    }\n",
       "</style>\n",
       "<table border=\"1\" class=\"dataframe\">\n",
       "  <thead>\n",
       "    <tr style=\"text-align: right;\">\n",
       "      <th></th>\n",
       "      <th>haut_tot</th>\n",
       "      <th>haut_tronc</th>\n",
       "      <th>tronc_diam</th>\n",
       "      <th>fk_arb_etat</th>\n",
       "      <th>age_estim</th>\n",
       "      <th>fk_prec_estim</th>\n",
       "      <th>fk_pied</th>\n",
       "      <th>fk_situation</th>\n",
       "    </tr>\n",
       "  </thead>\n",
       "  <tbody>\n",
       "    <tr>\n",
       "      <th>0</th>\n",
       "      <td>0.0</td>\n",
       "      <td>0.0</td>\n",
       "      <td>0.0</td>\n",
       "      <td>SUPPRIMÉ</td>\n",
       "      <td>11.170052</td>\n",
       "      <td>7.481492</td>\n",
       "      <td>Inexistant</td>\n",
       "      <td>Alignement</td>\n",
       "    </tr>\n",
       "    <tr>\n",
       "      <th>1</th>\n",
       "      <td>0.0</td>\n",
       "      <td>0.0</td>\n",
       "      <td>0.0</td>\n",
       "      <td>ABATTU</td>\n",
       "      <td>11.170052</td>\n",
       "      <td>7.481492</td>\n",
       "      <td>Inexistant</td>\n",
       "      <td>Alignement</td>\n",
       "    </tr>\n",
       "    <tr>\n",
       "      <th>2</th>\n",
       "      <td>0.0</td>\n",
       "      <td>0.0</td>\n",
       "      <td>0.0</td>\n",
       "      <td>SUPPRIMÉ</td>\n",
       "      <td>11.170052</td>\n",
       "      <td>7.481492</td>\n",
       "      <td>Inexistant</td>\n",
       "      <td>Alignement</td>\n",
       "    </tr>\n",
       "    <tr>\n",
       "      <th>3</th>\n",
       "      <td>0.0</td>\n",
       "      <td>0.0</td>\n",
       "      <td>0.0</td>\n",
       "      <td>SUPPRIMÉ</td>\n",
       "      <td>11.170052</td>\n",
       "      <td>7.481492</td>\n",
       "      <td>Inexistant</td>\n",
       "      <td>Alignement</td>\n",
       "    </tr>\n",
       "    <tr>\n",
       "      <th>4</th>\n",
       "      <td>0.0</td>\n",
       "      <td>0.0</td>\n",
       "      <td>0.0</td>\n",
       "      <td>ABATTU</td>\n",
       "      <td>11.170052</td>\n",
       "      <td>7.481492</td>\n",
       "      <td>Inexistant</td>\n",
       "      <td>Alignement</td>\n",
       "    </tr>\n",
       "  </tbody>\n",
       "</table>\n",
       "</div>"
      ],
      "text/plain": [
       "   haut_tot  haut_tronc  tronc_diam fk_arb_etat  age_estim  fk_prec_estim  \\\n",
       "0       0.0         0.0         0.0    SUPPRIMÉ  11.170052       7.481492   \n",
       "1       0.0         0.0         0.0      ABATTU  11.170052       7.481492   \n",
       "2       0.0         0.0         0.0    SUPPRIMÉ  11.170052       7.481492   \n",
       "3       0.0         0.0         0.0    SUPPRIMÉ  11.170052       7.481492   \n",
       "4       0.0         0.0         0.0      ABATTU  11.170052       7.481492   \n",
       "\n",
       "      fk_pied fk_situation  \n",
       "0  Inexistant   Alignement  \n",
       "1  Inexistant   Alignement  \n",
       "2  Inexistant   Alignement  \n",
       "3  Inexistant   Alignement  \n",
       "4  Inexistant   Alignement  "
      ]
     },
     "execution_count": 58,
     "metadata": {},
     "output_type": "execute_result"
    }
   ],
   "source": [
    "# Récupération des colonnes désirées \n",
    "data = data_clean[[\"haut_tot\",\"haut_tronc\",\"tronc_diam\",\"fk_arb_etat\",\"age_estim\", \"fk_prec_estim\",\"fk_pied\",\"fk_situation\"]]\n",
    "data.head()"
   ]
  },
  {
   "cell_type": "code",
   "execution_count": 59,
   "metadata": {},
   "outputs": [],
   "source": [
    "# Autre méthode pour récuperer les colonnes désirées\n",
    "colonnes = [\"haut_tot\",\"haut_tronc\",\"tronc_diam\",\"fk_arb_etat\",\"age_estim\", \"fk_prec_estim\",\"fk_pied\",\"fk_situation\"]\n",
    "data_new = data_clean[colonnes]"
   ]
  },
  {
   "cell_type": "code",
   "execution_count": 60,
   "metadata": {},
   "outputs": [
    {
     "data": {
      "text/html": [
       "<style type=\"text/css\">\n",
       "#T_5688a_row0_col0, #T_5688a_row1_col1, #T_5688a_row2_col2, #T_5688a_row3_col3, #T_5688a_row4_col4 {\n",
       "  background-color: #f2f2f2;\n",
       "  color: #000000;\n",
       "}\n",
       "#T_5688a_row0_col1 {\n",
       "  background-color: #b3cde3;\n",
       "  color: #000000;\n",
       "}\n",
       "#T_5688a_row0_col2 {\n",
       "  background-color: #fed9a6;\n",
       "  color: #000000;\n",
       "}\n",
       "#T_5688a_row0_col3, #T_5688a_row2_col0, #T_5688a_row3_col0 {\n",
       "  background-color: #decbe4;\n",
       "  color: #000000;\n",
       "}\n",
       "#T_5688a_row0_col4, #T_5688a_row2_col4, #T_5688a_row3_col1, #T_5688a_row4_col2 {\n",
       "  background-color: #ccebc5;\n",
       "  color: #000000;\n",
       "}\n",
       "#T_5688a_row1_col0, #T_5688a_row1_col2, #T_5688a_row1_col3, #T_5688a_row1_col4, #T_5688a_row2_col1, #T_5688a_row4_col0, #T_5688a_row4_col1 {\n",
       "  background-color: #fbb4ae;\n",
       "  color: #000000;\n",
       "}\n",
       "#T_5688a_row2_col3, #T_5688a_row4_col3 {\n",
       "  background-color: #e5d8bd;\n",
       "  color: #000000;\n",
       "}\n",
       "#T_5688a_row3_col2, #T_5688a_row3_col4 {\n",
       "  background-color: #fddaec;\n",
       "  color: #000000;\n",
       "}\n",
       "</style>\n",
       "<table id=\"T_5688a\">\n",
       "  <thead>\n",
       "    <tr>\n",
       "      <th class=\"blank level0\" >&nbsp;</th>\n",
       "      <th id=\"T_5688a_level0_col0\" class=\"col_heading level0 col0\" >haut_tot</th>\n",
       "      <th id=\"T_5688a_level0_col1\" class=\"col_heading level0 col1\" >haut_tronc</th>\n",
       "      <th id=\"T_5688a_level0_col2\" class=\"col_heading level0 col2\" >tronc_diam</th>\n",
       "      <th id=\"T_5688a_level0_col3\" class=\"col_heading level0 col3\" >age_estim</th>\n",
       "      <th id=\"T_5688a_level0_col4\" class=\"col_heading level0 col4\" >fk_prec_estim</th>\n",
       "    </tr>\n",
       "  </thead>\n",
       "  <tbody>\n",
       "    <tr>\n",
       "      <th id=\"T_5688a_level0_row0\" class=\"row_heading level0 row0\" >haut_tot</th>\n",
       "      <td id=\"T_5688a_row0_col0\" class=\"data row0 col0\" >1.000000</td>\n",
       "      <td id=\"T_5688a_row0_col1\" class=\"data row0 col1\" >0.441569</td>\n",
       "      <td id=\"T_5688a_row0_col2\" class=\"data row0 col2\" >0.678304</td>\n",
       "      <td id=\"T_5688a_row0_col3\" class=\"data row0 col3\" >0.678828</td>\n",
       "      <td id=\"T_5688a_row0_col4\" class=\"data row0 col4\" >0.463950</td>\n",
       "    </tr>\n",
       "    <tr>\n",
       "      <th id=\"T_5688a_level0_row1\" class=\"row_heading level0 row1\" >haut_tronc</th>\n",
       "      <td id=\"T_5688a_row1_col0\" class=\"data row1 col0\" >0.441569</td>\n",
       "      <td id=\"T_5688a_row1_col1\" class=\"data row1 col1\" >1.000000</td>\n",
       "      <td id=\"T_5688a_row1_col2\" class=\"data row1 col2\" >0.327135</td>\n",
       "      <td id=\"T_5688a_row1_col3\" class=\"data row1 col3\" >0.505737</td>\n",
       "      <td id=\"T_5688a_row1_col4\" class=\"data row1 col4\" >0.292037</td>\n",
       "    </tr>\n",
       "    <tr>\n",
       "      <th id=\"T_5688a_level0_row2\" class=\"row_heading level0 row2\" >tronc_diam</th>\n",
       "      <td id=\"T_5688a_row2_col0\" class=\"data row2 col0\" >0.678304</td>\n",
       "      <td id=\"T_5688a_row2_col1\" class=\"data row2 col1\" >0.327135</td>\n",
       "      <td id=\"T_5688a_row2_col2\" class=\"data row2 col2\" >1.000000</td>\n",
       "      <td id=\"T_5688a_row2_col3\" class=\"data row2 col3\" >0.857629</td>\n",
       "      <td id=\"T_5688a_row2_col4\" class=\"data row2 col4\" >0.508601</td>\n",
       "    </tr>\n",
       "    <tr>\n",
       "      <th id=\"T_5688a_level0_row3\" class=\"row_heading level0 row3\" >age_estim</th>\n",
       "      <td id=\"T_5688a_row3_col0\" class=\"data row3 col0\" >0.678828</td>\n",
       "      <td id=\"T_5688a_row3_col1\" class=\"data row3 col1\" >0.505737</td>\n",
       "      <td id=\"T_5688a_row3_col2\" class=\"data row3 col2\" >0.857629</td>\n",
       "      <td id=\"T_5688a_row3_col3\" class=\"data row3 col3\" >1.000000</td>\n",
       "      <td id=\"T_5688a_row3_col4\" class=\"data row3 col4\" >0.855497</td>\n",
       "    </tr>\n",
       "    <tr>\n",
       "      <th id=\"T_5688a_level0_row4\" class=\"row_heading level0 row4\" >fk_prec_estim</th>\n",
       "      <td id=\"T_5688a_row4_col0\" class=\"data row4 col0\" >0.463950</td>\n",
       "      <td id=\"T_5688a_row4_col1\" class=\"data row4 col1\" >0.292037</td>\n",
       "      <td id=\"T_5688a_row4_col2\" class=\"data row4 col2\" >0.508601</td>\n",
       "      <td id=\"T_5688a_row4_col3\" class=\"data row4 col3\" >0.855497</td>\n",
       "      <td id=\"T_5688a_row4_col4\" class=\"data row4 col4\" >1.000000</td>\n",
       "    </tr>\n",
       "  </tbody>\n",
       "</table>\n"
      ],
      "text/plain": [
       "<pandas.io.formats.style.Styler at 0x212c24164b0>"
      ]
     },
     "execution_count": 60,
     "metadata": {},
     "output_type": "execute_result"
    }
   ],
   "source": [
    "# Corrélation entre les variables numériques\n",
    "correlation = data.corr(method='pearson', numeric_only= True).style.background_gradient(cmap='Pastel1')\n",
    "correlation"
   ]
  },
  {
   "cell_type": "code",
   "execution_count": 61,
   "metadata": {},
   "outputs": [
    {
     "name": "stderr",
     "output_type": "stream",
     "text": [
      "C:\\Users\\mathi\\AppData\\Local\\Temp\\ipykernel_23244\\1464909206.py:7: SettingWithCopyWarning: \n",
      "A value is trying to be set on a copy of a slice from a DataFrame\n",
      "\n",
      "See the caveats in the documentation: https://pandas.pydata.org/pandas-docs/stable/user_guide/indexing.html#returning-a-view-versus-a-copy\n",
      "  data.drop(index, inplace = True)\n"
     ]
    },
    {
     "data": {
      "text/html": [
       "<div>\n",
       "<style scoped>\n",
       "    .dataframe tbody tr th:only-of-type {\n",
       "        vertical-align: middle;\n",
       "    }\n",
       "\n",
       "    .dataframe tbody tr th {\n",
       "        vertical-align: top;\n",
       "    }\n",
       "\n",
       "    .dataframe thead th {\n",
       "        text-align: right;\n",
       "    }\n",
       "</style>\n",
       "<table border=\"1\" class=\"dataframe\">\n",
       "  <thead>\n",
       "    <tr style=\"text-align: right;\">\n",
       "      <th></th>\n",
       "      <th>haut_tot</th>\n",
       "      <th>haut_tronc</th>\n",
       "      <th>tronc_diam</th>\n",
       "      <th>fk_arb_etat</th>\n",
       "      <th>age_estim</th>\n",
       "      <th>fk_prec_estim</th>\n",
       "      <th>fk_pied</th>\n",
       "      <th>fk_situation</th>\n",
       "    </tr>\n",
       "  </thead>\n",
       "  <tbody>\n",
       "    <tr>\n",
       "      <th>12</th>\n",
       "      <td>0.0</td>\n",
       "      <td>0.0</td>\n",
       "      <td>0.0</td>\n",
       "      <td>Essouché</td>\n",
       "      <td>11.170052</td>\n",
       "      <td>7.481492</td>\n",
       "      <td>Inexistant</td>\n",
       "      <td>Alignement</td>\n",
       "    </tr>\n",
       "    <tr>\n",
       "      <th>14</th>\n",
       "      <td>0.0</td>\n",
       "      <td>0.0</td>\n",
       "      <td>0.0</td>\n",
       "      <td>Essouché</td>\n",
       "      <td>11.170052</td>\n",
       "      <td>7.481492</td>\n",
       "      <td>Inexistant</td>\n",
       "      <td>Alignement</td>\n",
       "    </tr>\n",
       "    <tr>\n",
       "      <th>15</th>\n",
       "      <td>0.0</td>\n",
       "      <td>0.0</td>\n",
       "      <td>0.0</td>\n",
       "      <td>Essouché</td>\n",
       "      <td>11.170052</td>\n",
       "      <td>7.481492</td>\n",
       "      <td>Inexistant</td>\n",
       "      <td>Alignement</td>\n",
       "    </tr>\n",
       "    <tr>\n",
       "      <th>16</th>\n",
       "      <td>0.0</td>\n",
       "      <td>0.0</td>\n",
       "      <td>0.0</td>\n",
       "      <td>Essouché</td>\n",
       "      <td>11.170052</td>\n",
       "      <td>7.481492</td>\n",
       "      <td>Inexistant</td>\n",
       "      <td>Alignement</td>\n",
       "    </tr>\n",
       "    <tr>\n",
       "      <th>19</th>\n",
       "      <td>0.0</td>\n",
       "      <td>0.0</td>\n",
       "      <td>0.0</td>\n",
       "      <td>Non essouché</td>\n",
       "      <td>16.245164</td>\n",
       "      <td>10.000000</td>\n",
       "      <td>fosse arbre</td>\n",
       "      <td>Alignement</td>\n",
       "    </tr>\n",
       "  </tbody>\n",
       "</table>\n",
       "</div>"
      ],
      "text/plain": [
       "    haut_tot  haut_tronc  tronc_diam   fk_arb_etat  age_estim  fk_prec_estim  \\\n",
       "12       0.0         0.0         0.0      Essouché  11.170052       7.481492   \n",
       "14       0.0         0.0         0.0      Essouché  11.170052       7.481492   \n",
       "15       0.0         0.0         0.0      Essouché  11.170052       7.481492   \n",
       "16       0.0         0.0         0.0      Essouché  11.170052       7.481492   \n",
       "19       0.0         0.0         0.0  Non essouché  16.245164      10.000000   \n",
       "\n",
       "        fk_pied fk_situation  \n",
       "12   Inexistant   Alignement  \n",
       "14   Inexistant   Alignement  \n",
       "15   Inexistant   Alignement  \n",
       "16   Inexistant   Alignement  \n",
       "19  fosse arbre   Alignement  "
      ]
     },
     "execution_count": 61,
     "metadata": {},
     "output_type": "execute_result"
    }
   ],
   "source": [
    "# Retrait des lignes dont on ne se sert pas\n",
    "\n",
    "index = data[(data[\"fk_arb_etat\"] == 'SUPPRIMÉ') | \n",
    "             (data[\"fk_arb_etat\"]=='ABATTU') | \n",
    "             (data[\"fk_arb_etat\"]=='EN PLACE') | \n",
    "             (data[\"fk_arb_etat\"]=='REMPLACÉ')].index\n",
    "data.drop(index, inplace = True)\n",
    "data.head()"
   ]
  },
  {
   "cell_type": "code",
   "execution_count": 62,
   "metadata": {},
   "outputs": [
    {
     "name": "stderr",
     "output_type": "stream",
     "text": [
      "C:\\Users\\mathi\\AppData\\Local\\Temp\\ipykernel_23244\\1889407845.py:5: SettingWithCopyWarning: \n",
      "A value is trying to be set on a copy of a slice from a DataFrame.\n",
      "Try using .loc[row_indexer,col_indexer] = value instead\n",
      "\n",
      "See the caveats in the documentation: https://pandas.pydata.org/pandas-docs/stable/user_guide/indexing.html#returning-a-view-versus-a-copy\n",
      "  data.fk_arb_etat = data.fk_arb_etat.astype(int)\n"
     ]
    }
   ],
   "source": [
    "# Binarisation des valeurs de fk_arb_etat\n",
    "\n",
    "data.loc[data[\"fk_arb_etat\"] == \"Essouché\",\"fk_arb_etat\"] = 1\n",
    "data.loc[data[\"fk_arb_etat\"] != 1,\"fk_arb_etat\"] = 0\n",
    "data.fk_arb_etat = data.fk_arb_etat.astype(int)"
   ]
  },
  {
   "cell_type": "code",
   "execution_count": 63,
   "metadata": {},
   "outputs": [
    {
     "name": "stderr",
     "output_type": "stream",
     "text": [
      "C:\\Users\\mathi\\AppData\\Local\\Temp\\ipykernel_23244\\1348326787.py:6: SettingWithCopyWarning: \n",
      "A value is trying to be set on a copy of a slice from a DataFrame.\n",
      "Try using .loc[row_indexer,col_indexer] = value instead\n",
      "\n",
      "See the caveats in the documentation: https://pandas.pydata.org/pandas-docs/stable/user_guide/indexing.html#returning-a-view-versus-a-copy\n",
      "  data[cols] = encodeur.fit_transform(changement)\n"
     ]
    }
   ],
   "source": [
    "# Changement des ordinalités dans les colonnes en charactère\n",
    "encodeur = OrdinalEncoder()\n",
    "cols = [\"fk_pied\",\"fk_situation\"]\n",
    "# cols = [\"clc_quartier\",\"fk_situation\",\"feuillage\"]\n",
    "changement = data[cols]\n",
    "data[cols] = encodeur.fit_transform(changement)"
   ]
  },
  {
   "cell_type": "code",
   "execution_count": 64,
   "metadata": {},
   "outputs": [
    {
     "name": "stdout",
     "output_type": "stream",
     "text": [
      "      haut_tot  haut_tronc  tronc_diam  fk_arb_etat  age_estim  fk_prec_estim  \\\n",
      "12         0.0         0.0         0.0            1  11.170052       7.481492   \n",
      "14         0.0         0.0         0.0            1  11.170052       7.481492   \n",
      "15         0.0         0.0         0.0            1  11.170052       7.481492   \n",
      "16         0.0         0.0         0.0            1  11.170052       7.481492   \n",
      "19         0.0         0.0         0.0            0  16.245164      10.000000   \n",
      "...        ...         ...         ...          ...        ...            ...   \n",
      "8205       4.0         2.0        17.0            1   7.140417       2.000000   \n",
      "8221       9.0         3.0        85.0            1  25.346017       5.000000   \n",
      "8222       9.0         3.0        86.0            1  25.493089       5.000000   \n",
      "8223       9.0         4.0        98.0            1  29.581774       5.000000   \n",
      "8311       5.0         2.0        25.0            0   8.284093       2.000000   \n",
      "\n",
      "      fk_pied  fk_situation  \n",
      "12        3.0           0.0  \n",
      "14        3.0           0.0  \n",
      "15        3.0           0.0  \n",
      "16        3.0           0.0  \n",
      "19        7.0           0.0  \n",
      "...       ...           ...  \n",
      "8205      5.0           2.0  \n",
      "8221      5.0           2.0  \n",
      "8222      5.0           2.0  \n",
      "8223      5.0           2.0  \n",
      "8311      5.0           2.0  \n",
      "\n",
      "[197 rows x 8 columns]\n"
     ]
    }
   ],
   "source": [
    "# Visualisation des données transformées\n",
    "print(data)"
   ]
  },
  {
   "cell_type": "code",
   "execution_count": 65,
   "metadata": {},
   "outputs": [
    {
     "data": {
      "text/html": [
       "<style type=\"text/css\">\n",
       "#T_9e2a3_row0_col0, #T_9e2a3_row1_col1, #T_9e2a3_row2_col2, #T_9e2a3_row3_col3, #T_9e2a3_row4_col4, #T_9e2a3_row5_col5, #T_9e2a3_row6_col6, #T_9e2a3_row7_col7 {\n",
       "  background-color: #f2f2f2;\n",
       "  color: #000000;\n",
       "}\n",
       "#T_9e2a3_row0_col1, #T_9e2a3_row1_col0, #T_9e2a3_row1_col2, #T_9e2a3_row2_col1, #T_9e2a3_row5_col4 {\n",
       "  background-color: #ffffcc;\n",
       "  color: #000000;\n",
       "}\n",
       "#T_9e2a3_row0_col2, #T_9e2a3_row0_col4, #T_9e2a3_row1_col4, #T_9e2a3_row2_col0, #T_9e2a3_row4_col0, #T_9e2a3_row4_col1, #T_9e2a3_row4_col5 {\n",
       "  background-color: #e5d8bd;\n",
       "  color: #000000;\n",
       "}\n",
       "#T_9e2a3_row0_col3, #T_9e2a3_row1_col3, #T_9e2a3_row1_col6, #T_9e2a3_row2_col3, #T_9e2a3_row5_col0, #T_9e2a3_row5_col1, #T_9e2a3_row5_col2, #T_9e2a3_row5_col6, #T_9e2a3_row6_col1, #T_9e2a3_row6_col2, #T_9e2a3_row6_col4, #T_9e2a3_row7_col2, #T_9e2a3_row7_col3, #T_9e2a3_row7_col4, #T_9e2a3_row7_col6 {\n",
       "  background-color: #b3cde3;\n",
       "  color: #000000;\n",
       "}\n",
       "#T_9e2a3_row0_col5, #T_9e2a3_row1_col7, #T_9e2a3_row2_col5, #T_9e2a3_row2_col7, #T_9e2a3_row7_col0 {\n",
       "  background-color: #decbe4;\n",
       "  color: #000000;\n",
       "}\n",
       "#T_9e2a3_row0_col6, #T_9e2a3_row1_col5, #T_9e2a3_row2_col6, #T_9e2a3_row3_col7, #T_9e2a3_row4_col6, #T_9e2a3_row4_col7, #T_9e2a3_row6_col0, #T_9e2a3_row6_col5, #T_9e2a3_row6_col7, #T_9e2a3_row7_col1 {\n",
       "  background-color: #ccebc5;\n",
       "  color: #000000;\n",
       "}\n",
       "#T_9e2a3_row0_col7 {\n",
       "  background-color: #fed9a6;\n",
       "  color: #000000;\n",
       "}\n",
       "#T_9e2a3_row2_col4, #T_9e2a3_row4_col2 {\n",
       "  background-color: #fddaec;\n",
       "  color: #000000;\n",
       "}\n",
       "#T_9e2a3_row3_col0, #T_9e2a3_row3_col1, #T_9e2a3_row3_col2, #T_9e2a3_row3_col4, #T_9e2a3_row3_col5, #T_9e2a3_row3_col6, #T_9e2a3_row4_col3, #T_9e2a3_row5_col3, #T_9e2a3_row5_col7, #T_9e2a3_row6_col3, #T_9e2a3_row7_col5 {\n",
       "  background-color: #fbb4ae;\n",
       "  color: #000000;\n",
       "}\n",
       "</style>\n",
       "<table id=\"T_9e2a3\">\n",
       "  <thead>\n",
       "    <tr>\n",
       "      <th class=\"blank level0\" >&nbsp;</th>\n",
       "      <th id=\"T_9e2a3_level0_col0\" class=\"col_heading level0 col0\" >haut_tot</th>\n",
       "      <th id=\"T_9e2a3_level0_col1\" class=\"col_heading level0 col1\" >haut_tronc</th>\n",
       "      <th id=\"T_9e2a3_level0_col2\" class=\"col_heading level0 col2\" >tronc_diam</th>\n",
       "      <th id=\"T_9e2a3_level0_col3\" class=\"col_heading level0 col3\" >fk_arb_etat</th>\n",
       "      <th id=\"T_9e2a3_level0_col4\" class=\"col_heading level0 col4\" >age_estim</th>\n",
       "      <th id=\"T_9e2a3_level0_col5\" class=\"col_heading level0 col5\" >fk_prec_estim</th>\n",
       "      <th id=\"T_9e2a3_level0_col6\" class=\"col_heading level0 col6\" >fk_pied</th>\n",
       "      <th id=\"T_9e2a3_level0_col7\" class=\"col_heading level0 col7\" >fk_situation</th>\n",
       "    </tr>\n",
       "  </thead>\n",
       "  <tbody>\n",
       "    <tr>\n",
       "      <th id=\"T_9e2a3_level0_row0\" class=\"row_heading level0 row0\" >haut_tot</th>\n",
       "      <td id=\"T_9e2a3_row0_col0\" class=\"data row0 col0\" >1.000000</td>\n",
       "      <td id=\"T_9e2a3_row0_col1\" class=\"data row0 col1\" >0.665377</td>\n",
       "      <td id=\"T_9e2a3_row0_col2\" class=\"data row0 col2\" >0.729910</td>\n",
       "      <td id=\"T_9e2a3_row0_col3\" class=\"data row0 col3\" >0.090665</td>\n",
       "      <td id=\"T_9e2a3_row0_col4\" class=\"data row0 col4\" >0.699162</td>\n",
       "      <td id=\"T_9e2a3_row0_col5\" class=\"data row0 col5\" >0.237857</td>\n",
       "      <td id=\"T_9e2a3_row0_col6\" class=\"data row0 col6\" >0.296670</td>\n",
       "      <td id=\"T_9e2a3_row0_col7\" class=\"data row0 col7\" >0.409936</td>\n",
       "    </tr>\n",
       "    <tr>\n",
       "      <th id=\"T_9e2a3_level0_row1\" class=\"row_heading level0 row1\" >haut_tronc</th>\n",
       "      <td id=\"T_9e2a3_row1_col0\" class=\"data row1 col0\" >0.665377</td>\n",
       "      <td id=\"T_9e2a3_row1_col1\" class=\"data row1 col1\" >1.000000</td>\n",
       "      <td id=\"T_9e2a3_row1_col2\" class=\"data row1 col2\" >0.621905</td>\n",
       "      <td id=\"T_9e2a3_row1_col3\" class=\"data row1 col3\" >0.049869</td>\n",
       "      <td id=\"T_9e2a3_row1_col4\" class=\"data row1 col4\" >0.696205</td>\n",
       "      <td id=\"T_9e2a3_row1_col5\" class=\"data row1 col5\" >0.209201</td>\n",
       "      <td id=\"T_9e2a3_row1_col6\" class=\"data row1 col6\" >0.162339</td>\n",
       "      <td id=\"T_9e2a3_row1_col7\" class=\"data row1 col7\" >0.279502</td>\n",
       "    </tr>\n",
       "    <tr>\n",
       "      <th id=\"T_9e2a3_level0_row2\" class=\"row_heading level0 row2\" >tronc_diam</th>\n",
       "      <td id=\"T_9e2a3_row2_col0\" class=\"data row2 col0\" >0.729910</td>\n",
       "      <td id=\"T_9e2a3_row2_col1\" class=\"data row2 col1\" >0.621905</td>\n",
       "      <td id=\"T_9e2a3_row2_col2\" class=\"data row2 col2\" >1.000000</td>\n",
       "      <td id=\"T_9e2a3_row2_col3\" class=\"data row2 col3\" >0.090675</td>\n",
       "      <td id=\"T_9e2a3_row2_col4\" class=\"data row2 col4\" >0.886681</td>\n",
       "      <td id=\"T_9e2a3_row2_col5\" class=\"data row2 col5\" >0.288290</td>\n",
       "      <td id=\"T_9e2a3_row2_col6\" class=\"data row2 col6\" >0.224560</td>\n",
       "      <td id=\"T_9e2a3_row2_col7\" class=\"data row2 col7\" >0.251526</td>\n",
       "    </tr>\n",
       "    <tr>\n",
       "      <th id=\"T_9e2a3_level0_row3\" class=\"row_heading level0 row3\" >fk_arb_etat</th>\n",
       "      <td id=\"T_9e2a3_row3_col0\" class=\"data row3 col0\" >0.090665</td>\n",
       "      <td id=\"T_9e2a3_row3_col1\" class=\"data row3 col1\" >0.049869</td>\n",
       "      <td id=\"T_9e2a3_row3_col2\" class=\"data row3 col2\" >0.090675</td>\n",
       "      <td id=\"T_9e2a3_row3_col3\" class=\"data row3 col3\" >1.000000</td>\n",
       "      <td id=\"T_9e2a3_row3_col4\" class=\"data row3 col4\" >0.024848</td>\n",
       "      <td id=\"T_9e2a3_row3_col5\" class=\"data row3 col5\" >-0.095218</td>\n",
       "      <td id=\"T_9e2a3_row3_col6\" class=\"data row3 col6\" >0.002397</td>\n",
       "      <td id=\"T_9e2a3_row3_col7\" class=\"data row3 col7\" >0.146225</td>\n",
       "    </tr>\n",
       "    <tr>\n",
       "      <th id=\"T_9e2a3_level0_row4\" class=\"row_heading level0 row4\" >age_estim</th>\n",
       "      <td id=\"T_9e2a3_row4_col0\" class=\"data row4 col0\" >0.699162</td>\n",
       "      <td id=\"T_9e2a3_row4_col1\" class=\"data row4 col1\" >0.696205</td>\n",
       "      <td id=\"T_9e2a3_row4_col2\" class=\"data row4 col2\" >0.886681</td>\n",
       "      <td id=\"T_9e2a3_row4_col3\" class=\"data row4 col3\" >0.024848</td>\n",
       "      <td id=\"T_9e2a3_row4_col4\" class=\"data row4 col4\" >1.000000</td>\n",
       "      <td id=\"T_9e2a3_row4_col5\" class=\"data row4 col5\" >0.668092</td>\n",
       "      <td id=\"T_9e2a3_row4_col6\" class=\"data row4 col6\" >0.233696</td>\n",
       "      <td id=\"T_9e2a3_row4_col7\" class=\"data row4 col7\" >0.140904</td>\n",
       "    </tr>\n",
       "    <tr>\n",
       "      <th id=\"T_9e2a3_level0_row5\" class=\"row_heading level0 row5\" >fk_prec_estim</th>\n",
       "      <td id=\"T_9e2a3_row5_col0\" class=\"data row5 col0\" >0.237857</td>\n",
       "      <td id=\"T_9e2a3_row5_col1\" class=\"data row5 col1\" >0.209201</td>\n",
       "      <td id=\"T_9e2a3_row5_col2\" class=\"data row5 col2\" >0.288290</td>\n",
       "      <td id=\"T_9e2a3_row5_col3\" class=\"data row5 col3\" >-0.095218</td>\n",
       "      <td id=\"T_9e2a3_row5_col4\" class=\"data row5 col4\" >0.668092</td>\n",
       "      <td id=\"T_9e2a3_row5_col5\" class=\"data row5 col5\" >1.000000</td>\n",
       "      <td id=\"T_9e2a3_row5_col6\" class=\"data row5 col6\" >0.135763</td>\n",
       "      <td id=\"T_9e2a3_row5_col7\" class=\"data row5 col7\" >-0.166544</td>\n",
       "    </tr>\n",
       "    <tr>\n",
       "      <th id=\"T_9e2a3_level0_row6\" class=\"row_heading level0 row6\" >fk_pied</th>\n",
       "      <td id=\"T_9e2a3_row6_col0\" class=\"data row6 col0\" >0.296670</td>\n",
       "      <td id=\"T_9e2a3_row6_col1\" class=\"data row6 col1\" >0.162339</td>\n",
       "      <td id=\"T_9e2a3_row6_col2\" class=\"data row6 col2\" >0.224560</td>\n",
       "      <td id=\"T_9e2a3_row6_col3\" class=\"data row6 col3\" >0.002397</td>\n",
       "      <td id=\"T_9e2a3_row6_col4\" class=\"data row6 col4\" >0.233696</td>\n",
       "      <td id=\"T_9e2a3_row6_col5\" class=\"data row6 col5\" >0.135763</td>\n",
       "      <td id=\"T_9e2a3_row6_col6\" class=\"data row6 col6\" >1.000000</td>\n",
       "      <td id=\"T_9e2a3_row6_col7\" class=\"data row6 col7\" >0.180847</td>\n",
       "    </tr>\n",
       "    <tr>\n",
       "      <th id=\"T_9e2a3_level0_row7\" class=\"row_heading level0 row7\" >fk_situation</th>\n",
       "      <td id=\"T_9e2a3_row7_col0\" class=\"data row7 col0\" >0.409936</td>\n",
       "      <td id=\"T_9e2a3_row7_col1\" class=\"data row7 col1\" >0.279502</td>\n",
       "      <td id=\"T_9e2a3_row7_col2\" class=\"data row7 col2\" >0.251526</td>\n",
       "      <td id=\"T_9e2a3_row7_col3\" class=\"data row7 col3\" >0.146225</td>\n",
       "      <td id=\"T_9e2a3_row7_col4\" class=\"data row7 col4\" >0.140904</td>\n",
       "      <td id=\"T_9e2a3_row7_col5\" class=\"data row7 col5\" >-0.166544</td>\n",
       "      <td id=\"T_9e2a3_row7_col6\" class=\"data row7 col6\" >0.180847</td>\n",
       "      <td id=\"T_9e2a3_row7_col7\" class=\"data row7 col7\" >1.000000</td>\n",
       "    </tr>\n",
       "  </tbody>\n",
       "</table>\n"
      ],
      "text/plain": [
       "<pandas.io.formats.style.Styler at 0x212bec979b0>"
      ]
     },
     "execution_count": 65,
     "metadata": {},
     "output_type": "execute_result"
    }
   ],
   "source": [
    "# Nouvelle corrélation entre les variables numériques\n",
    "new_correlation = data.corr(method='pearson', numeric_only= True).style.background_gradient(cmap='Pastel1')\n",
    "new_correlation"
   ]
  },
  {
   "cell_type": "code",
   "execution_count": 66,
   "metadata": {},
   "outputs": [
    {
     "name": "stdout",
     "output_type": "stream",
     "text": [
      "      haut_tot  haut_tronc  tronc_diam  age_estim  fk_prec_estim  fk_pied  \\\n",
      "12         0.0         0.0         0.0  11.170052       7.481492      3.0   \n",
      "14         0.0         0.0         0.0  11.170052       7.481492      3.0   \n",
      "15         0.0         0.0         0.0  11.170052       7.481492      3.0   \n",
      "16         0.0         0.0         0.0  11.170052       7.481492      3.0   \n",
      "19         0.0         0.0         0.0  16.245164      10.000000      7.0   \n",
      "...        ...         ...         ...        ...            ...      ...   \n",
      "8205       4.0         2.0        17.0   7.140417       2.000000      5.0   \n",
      "8221       9.0         3.0        85.0  25.346017       5.000000      5.0   \n",
      "8222       9.0         3.0        86.0  25.493089       5.000000      5.0   \n",
      "8223       9.0         4.0        98.0  29.581774       5.000000      5.0   \n",
      "8311       5.0         2.0        25.0   8.284093       2.000000      5.0   \n",
      "\n",
      "      fk_situation  \n",
      "12             0.0  \n",
      "14             0.0  \n",
      "15             0.0  \n",
      "16             0.0  \n",
      "19             0.0  \n",
      "...            ...  \n",
      "8205           2.0  \n",
      "8221           2.0  \n",
      "8222           2.0  \n",
      "8223           2.0  \n",
      "8311           2.0  \n",
      "\n",
      "[197 rows x 7 columns]\n",
      "(197, 7)\n"
     ]
    }
   ],
   "source": [
    "# Classification des données en X\n",
    "\n",
    "x = data[[\"haut_tot\",\"haut_tronc\",\"tronc_diam\",\"age_estim\", \"fk_prec_estim\",\"fk_pied\",\"fk_situation\"]]\n",
    "print(x)\n",
    "print(x.shape)"
   ]
  },
  {
   "cell_type": "code",
   "execution_count": 67,
   "metadata": {},
   "outputs": [
    {
     "name": "stdout",
     "output_type": "stream",
     "text": [
      "      fk_arb_etat\n",
      "12              1\n",
      "14              1\n",
      "15              1\n",
      "16              1\n",
      "19              0\n",
      "...           ...\n",
      "8205            1\n",
      "8221            1\n",
      "8222            1\n",
      "8223            1\n",
      "8311            0\n",
      "\n",
      "[197 rows x 1 columns]\n",
      "(197, 1)\n"
     ]
    }
   ],
   "source": [
    "# Classification des données en Y\n",
    "y = data[[\"fk_arb_etat\"]]\n",
    "print(y)\n",
    "print(y.shape)"
   ]
  },
  {
   "cell_type": "code",
   "execution_count": 68,
   "metadata": {},
   "outputs": [
    {
     "name": "stdout",
     "output_type": "stream",
     "text": [
      "[0 1]\n"
     ]
    }
   ],
   "source": [
    "print(np.unique(y))"
   ]
  },
  {
   "cell_type": "code",
   "execution_count": 69,
   "metadata": {},
   "outputs": [],
   "source": [
    "x_train, x_test, y_train, y_test = train_test_split(x, y, test_size=0.3, random_state=42, stratify=y)"
   ]
  },
  {
   "cell_type": "code",
   "execution_count": 70,
   "metadata": {},
   "outputs": [
    {
     "name": "stdout",
     "output_type": "stream",
     "text": [
      "      fk_arb_etat\n",
      "7757            1\n",
      "14              1\n",
      "1760            1\n",
      "1747            1\n",
      "1294            0\n",
      "1374            1\n",
      "2385            0\n",
      "2536            1\n",
      "160             1\n",
      "1241            1\n",
      "2043            1\n",
      "3966            1\n",
      "1237            1\n",
      "2173            1\n",
      "1168            0\n",
      "4671            0\n",
      "1341            0\n",
      "8311            0\n",
      "1300            0\n",
      "1299            0\n",
      "711             1\n",
      "4724            1\n",
      "2952            1\n",
      "1289            0\n",
      "265             0\n",
      "4652            1\n",
      "1247            1\n",
      "1270            0\n",
      "2819            1\n",
      "16              1\n",
      "3378            0\n",
      "1194            0\n",
      "1017            1\n",
      "8095            1\n",
      "4298            1\n",
      "2722            0\n",
      "4300            0\n",
      "2512            1\n",
      "1699            1\n",
      "1672            1\n",
      "5594            1\n",
      "5690            1\n",
      "2080            1\n",
      "3964            1\n",
      "4829            1\n",
      "2454            1\n",
      "831             1\n",
      "4720            1\n",
      "3677            1\n",
      "1307            0\n",
      "4312            1\n",
      "3679            1\n",
      "3637            1\n",
      "2111            1\n",
      "1312            1\n",
      "5534            0\n",
      "4413            1\n",
      "3591            1\n",
      "2800            0\n",
      "2556            1\n"
     ]
    }
   ],
   "source": [
    "print(y_test)"
   ]
  },
  {
   "cell_type": "markdown",
   "metadata": {},
   "source": [
    "### Apprentissage Supervisé pour la classification"
   ]
  },
  {
   "cell_type": "markdown",
   "metadata": {},
   "source": [
    "#### Classification binaire"
   ]
  },
  {
   "cell_type": "code",
   "execution_count": 71,
   "metadata": {},
   "outputs": [
    {
     "name": "stderr",
     "output_type": "stream",
     "text": [
      "C:\\Users\\mathi\\AppData\\Local\\Packages\\PythonSoftwareFoundation.Python.3.12_qbz5n2kfra8p0\\LocalCache\\local-packages\\Python312\\site-packages\\sklearn\\base.py:1473: DataConversionWarning: A column-vector y was passed when a 1d array was expected. Please change the shape of y to (n_samples,), for example using ravel().\n",
      "  return fit_method(estimator, *args, **kwargs)\n"
     ]
    },
    {
     "data": {
      "text/html": [
       "<style>#sk-container-id-3 {\n",
       "  /* Definition of color scheme common for light and dark mode */\n",
       "  --sklearn-color-text: black;\n",
       "  --sklearn-color-line: gray;\n",
       "  /* Definition of color scheme for unfitted estimators */\n",
       "  --sklearn-color-unfitted-level-0: #fff5e6;\n",
       "  --sklearn-color-unfitted-level-1: #f6e4d2;\n",
       "  --sklearn-color-unfitted-level-2: #ffe0b3;\n",
       "  --sklearn-color-unfitted-level-3: chocolate;\n",
       "  /* Definition of color scheme for fitted estimators */\n",
       "  --sklearn-color-fitted-level-0: #f0f8ff;\n",
       "  --sklearn-color-fitted-level-1: #d4ebff;\n",
       "  --sklearn-color-fitted-level-2: #b3dbfd;\n",
       "  --sklearn-color-fitted-level-3: cornflowerblue;\n",
       "\n",
       "  /* Specific color for light theme */\n",
       "  --sklearn-color-text-on-default-background: var(--sg-text-color, var(--theme-code-foreground, var(--jp-content-font-color1, black)));\n",
       "  --sklearn-color-background: var(--sg-background-color, var(--theme-background, var(--jp-layout-color0, white)));\n",
       "  --sklearn-color-border-box: var(--sg-text-color, var(--theme-code-foreground, var(--jp-content-font-color1, black)));\n",
       "  --sklearn-color-icon: #696969;\n",
       "\n",
       "  @media (prefers-color-scheme: dark) {\n",
       "    /* Redefinition of color scheme for dark theme */\n",
       "    --sklearn-color-text-on-default-background: var(--sg-text-color, var(--theme-code-foreground, var(--jp-content-font-color1, white)));\n",
       "    --sklearn-color-background: var(--sg-background-color, var(--theme-background, var(--jp-layout-color0, #111)));\n",
       "    --sklearn-color-border-box: var(--sg-text-color, var(--theme-code-foreground, var(--jp-content-font-color1, white)));\n",
       "    --sklearn-color-icon: #878787;\n",
       "  }\n",
       "}\n",
       "\n",
       "#sk-container-id-3 {\n",
       "  color: var(--sklearn-color-text);\n",
       "}\n",
       "\n",
       "#sk-container-id-3 pre {\n",
       "  padding: 0;\n",
       "}\n",
       "\n",
       "#sk-container-id-3 input.sk-hidden--visually {\n",
       "  border: 0;\n",
       "  clip: rect(1px 1px 1px 1px);\n",
       "  clip: rect(1px, 1px, 1px, 1px);\n",
       "  height: 1px;\n",
       "  margin: -1px;\n",
       "  overflow: hidden;\n",
       "  padding: 0;\n",
       "  position: absolute;\n",
       "  width: 1px;\n",
       "}\n",
       "\n",
       "#sk-container-id-3 div.sk-dashed-wrapped {\n",
       "  border: 1px dashed var(--sklearn-color-line);\n",
       "  margin: 0 0.4em 0.5em 0.4em;\n",
       "  box-sizing: border-box;\n",
       "  padding-bottom: 0.4em;\n",
       "  background-color: var(--sklearn-color-background);\n",
       "}\n",
       "\n",
       "#sk-container-id-3 div.sk-container {\n",
       "  /* jupyter's `normalize.less` sets `[hidden] { display: none; }`\n",
       "     but bootstrap.min.css set `[hidden] { display: none !important; }`\n",
       "     so we also need the `!important` here to be able to override the\n",
       "     default hidden behavior on the sphinx rendered scikit-learn.org.\n",
       "     See: https://github.com/scikit-learn/scikit-learn/issues/21755 */\n",
       "  display: inline-block !important;\n",
       "  position: relative;\n",
       "}\n",
       "\n",
       "#sk-container-id-3 div.sk-text-repr-fallback {\n",
       "  display: none;\n",
       "}\n",
       "\n",
       "div.sk-parallel-item,\n",
       "div.sk-serial,\n",
       "div.sk-item {\n",
       "  /* draw centered vertical line to link estimators */\n",
       "  background-image: linear-gradient(var(--sklearn-color-text-on-default-background), var(--sklearn-color-text-on-default-background));\n",
       "  background-size: 2px 100%;\n",
       "  background-repeat: no-repeat;\n",
       "  background-position: center center;\n",
       "}\n",
       "\n",
       "/* Parallel-specific style estimator block */\n",
       "\n",
       "#sk-container-id-3 div.sk-parallel-item::after {\n",
       "  content: \"\";\n",
       "  width: 100%;\n",
       "  border-bottom: 2px solid var(--sklearn-color-text-on-default-background);\n",
       "  flex-grow: 1;\n",
       "}\n",
       "\n",
       "#sk-container-id-3 div.sk-parallel {\n",
       "  display: flex;\n",
       "  align-items: stretch;\n",
       "  justify-content: center;\n",
       "  background-color: var(--sklearn-color-background);\n",
       "  position: relative;\n",
       "}\n",
       "\n",
       "#sk-container-id-3 div.sk-parallel-item {\n",
       "  display: flex;\n",
       "  flex-direction: column;\n",
       "}\n",
       "\n",
       "#sk-container-id-3 div.sk-parallel-item:first-child::after {\n",
       "  align-self: flex-end;\n",
       "  width: 50%;\n",
       "}\n",
       "\n",
       "#sk-container-id-3 div.sk-parallel-item:last-child::after {\n",
       "  align-self: flex-start;\n",
       "  width: 50%;\n",
       "}\n",
       "\n",
       "#sk-container-id-3 div.sk-parallel-item:only-child::after {\n",
       "  width: 0;\n",
       "}\n",
       "\n",
       "/* Serial-specific style estimator block */\n",
       "\n",
       "#sk-container-id-3 div.sk-serial {\n",
       "  display: flex;\n",
       "  flex-direction: column;\n",
       "  align-items: center;\n",
       "  background-color: var(--sklearn-color-background);\n",
       "  padding-right: 1em;\n",
       "  padding-left: 1em;\n",
       "}\n",
       "\n",
       "\n",
       "/* Toggleable style: style used for estimator/Pipeline/ColumnTransformer box that is\n",
       "clickable and can be expanded/collapsed.\n",
       "- Pipeline and ColumnTransformer use this feature and define the default style\n",
       "- Estimators will overwrite some part of the style using the `sk-estimator` class\n",
       "*/\n",
       "\n",
       "/* Pipeline and ColumnTransformer style (default) */\n",
       "\n",
       "#sk-container-id-3 div.sk-toggleable {\n",
       "  /* Default theme specific background. It is overwritten whether we have a\n",
       "  specific estimator or a Pipeline/ColumnTransformer */\n",
       "  background-color: var(--sklearn-color-background);\n",
       "}\n",
       "\n",
       "/* Toggleable label */\n",
       "#sk-container-id-3 label.sk-toggleable__label {\n",
       "  cursor: pointer;\n",
       "  display: block;\n",
       "  width: 100%;\n",
       "  margin-bottom: 0;\n",
       "  padding: 0.5em;\n",
       "  box-sizing: border-box;\n",
       "  text-align: center;\n",
       "}\n",
       "\n",
       "#sk-container-id-3 label.sk-toggleable__label-arrow:before {\n",
       "  /* Arrow on the left of the label */\n",
       "  content: \"▸\";\n",
       "  float: left;\n",
       "  margin-right: 0.25em;\n",
       "  color: var(--sklearn-color-icon);\n",
       "}\n",
       "\n",
       "#sk-container-id-3 label.sk-toggleable__label-arrow:hover:before {\n",
       "  color: var(--sklearn-color-text);\n",
       "}\n",
       "\n",
       "/* Toggleable content - dropdown */\n",
       "\n",
       "#sk-container-id-3 div.sk-toggleable__content {\n",
       "  max-height: 0;\n",
       "  max-width: 0;\n",
       "  overflow: hidden;\n",
       "  text-align: left;\n",
       "  /* unfitted */\n",
       "  background-color: var(--sklearn-color-unfitted-level-0);\n",
       "}\n",
       "\n",
       "#sk-container-id-3 div.sk-toggleable__content.fitted {\n",
       "  /* fitted */\n",
       "  background-color: var(--sklearn-color-fitted-level-0);\n",
       "}\n",
       "\n",
       "#sk-container-id-3 div.sk-toggleable__content pre {\n",
       "  margin: 0.2em;\n",
       "  border-radius: 0.25em;\n",
       "  color: var(--sklearn-color-text);\n",
       "  /* unfitted */\n",
       "  background-color: var(--sklearn-color-unfitted-level-0);\n",
       "}\n",
       "\n",
       "#sk-container-id-3 div.sk-toggleable__content.fitted pre {\n",
       "  /* unfitted */\n",
       "  background-color: var(--sklearn-color-fitted-level-0);\n",
       "}\n",
       "\n",
       "#sk-container-id-3 input.sk-toggleable__control:checked~div.sk-toggleable__content {\n",
       "  /* Expand drop-down */\n",
       "  max-height: 200px;\n",
       "  max-width: 100%;\n",
       "  overflow: auto;\n",
       "}\n",
       "\n",
       "#sk-container-id-3 input.sk-toggleable__control:checked~label.sk-toggleable__label-arrow:before {\n",
       "  content: \"▾\";\n",
       "}\n",
       "\n",
       "/* Pipeline/ColumnTransformer-specific style */\n",
       "\n",
       "#sk-container-id-3 div.sk-label input.sk-toggleable__control:checked~label.sk-toggleable__label {\n",
       "  color: var(--sklearn-color-text);\n",
       "  background-color: var(--sklearn-color-unfitted-level-2);\n",
       "}\n",
       "\n",
       "#sk-container-id-3 div.sk-label.fitted input.sk-toggleable__control:checked~label.sk-toggleable__label {\n",
       "  background-color: var(--sklearn-color-fitted-level-2);\n",
       "}\n",
       "\n",
       "/* Estimator-specific style */\n",
       "\n",
       "/* Colorize estimator box */\n",
       "#sk-container-id-3 div.sk-estimator input.sk-toggleable__control:checked~label.sk-toggleable__label {\n",
       "  /* unfitted */\n",
       "  background-color: var(--sklearn-color-unfitted-level-2);\n",
       "}\n",
       "\n",
       "#sk-container-id-3 div.sk-estimator.fitted input.sk-toggleable__control:checked~label.sk-toggleable__label {\n",
       "  /* fitted */\n",
       "  background-color: var(--sklearn-color-fitted-level-2);\n",
       "}\n",
       "\n",
       "#sk-container-id-3 div.sk-label label.sk-toggleable__label,\n",
       "#sk-container-id-3 div.sk-label label {\n",
       "  /* The background is the default theme color */\n",
       "  color: var(--sklearn-color-text-on-default-background);\n",
       "}\n",
       "\n",
       "/* On hover, darken the color of the background */\n",
       "#sk-container-id-3 div.sk-label:hover label.sk-toggleable__label {\n",
       "  color: var(--sklearn-color-text);\n",
       "  background-color: var(--sklearn-color-unfitted-level-2);\n",
       "}\n",
       "\n",
       "/* Label box, darken color on hover, fitted */\n",
       "#sk-container-id-3 div.sk-label.fitted:hover label.sk-toggleable__label.fitted {\n",
       "  color: var(--sklearn-color-text);\n",
       "  background-color: var(--sklearn-color-fitted-level-2);\n",
       "}\n",
       "\n",
       "/* Estimator label */\n",
       "\n",
       "#sk-container-id-3 div.sk-label label {\n",
       "  font-family: monospace;\n",
       "  font-weight: bold;\n",
       "  display: inline-block;\n",
       "  line-height: 1.2em;\n",
       "}\n",
       "\n",
       "#sk-container-id-3 div.sk-label-container {\n",
       "  text-align: center;\n",
       "}\n",
       "\n",
       "/* Estimator-specific */\n",
       "#sk-container-id-3 div.sk-estimator {\n",
       "  font-family: monospace;\n",
       "  border: 1px dotted var(--sklearn-color-border-box);\n",
       "  border-radius: 0.25em;\n",
       "  box-sizing: border-box;\n",
       "  margin-bottom: 0.5em;\n",
       "  /* unfitted */\n",
       "  background-color: var(--sklearn-color-unfitted-level-0);\n",
       "}\n",
       "\n",
       "#sk-container-id-3 div.sk-estimator.fitted {\n",
       "  /* fitted */\n",
       "  background-color: var(--sklearn-color-fitted-level-0);\n",
       "}\n",
       "\n",
       "/* on hover */\n",
       "#sk-container-id-3 div.sk-estimator:hover {\n",
       "  /* unfitted */\n",
       "  background-color: var(--sklearn-color-unfitted-level-2);\n",
       "}\n",
       "\n",
       "#sk-container-id-3 div.sk-estimator.fitted:hover {\n",
       "  /* fitted */\n",
       "  background-color: var(--sklearn-color-fitted-level-2);\n",
       "}\n",
       "\n",
       "/* Specification for estimator info (e.g. \"i\" and \"?\") */\n",
       "\n",
       "/* Common style for \"i\" and \"?\" */\n",
       "\n",
       ".sk-estimator-doc-link,\n",
       "a:link.sk-estimator-doc-link,\n",
       "a:visited.sk-estimator-doc-link {\n",
       "  float: right;\n",
       "  font-size: smaller;\n",
       "  line-height: 1em;\n",
       "  font-family: monospace;\n",
       "  background-color: var(--sklearn-color-background);\n",
       "  border-radius: 1em;\n",
       "  height: 1em;\n",
       "  width: 1em;\n",
       "  text-decoration: none !important;\n",
       "  margin-left: 1ex;\n",
       "  /* unfitted */\n",
       "  border: var(--sklearn-color-unfitted-level-1) 1pt solid;\n",
       "  color: var(--sklearn-color-unfitted-level-1);\n",
       "}\n",
       "\n",
       ".sk-estimator-doc-link.fitted,\n",
       "a:link.sk-estimator-doc-link.fitted,\n",
       "a:visited.sk-estimator-doc-link.fitted {\n",
       "  /* fitted */\n",
       "  border: var(--sklearn-color-fitted-level-1) 1pt solid;\n",
       "  color: var(--sklearn-color-fitted-level-1);\n",
       "}\n",
       "\n",
       "/* On hover */\n",
       "div.sk-estimator:hover .sk-estimator-doc-link:hover,\n",
       ".sk-estimator-doc-link:hover,\n",
       "div.sk-label-container:hover .sk-estimator-doc-link:hover,\n",
       ".sk-estimator-doc-link:hover {\n",
       "  /* unfitted */\n",
       "  background-color: var(--sklearn-color-unfitted-level-3);\n",
       "  color: var(--sklearn-color-background);\n",
       "  text-decoration: none;\n",
       "}\n",
       "\n",
       "div.sk-estimator.fitted:hover .sk-estimator-doc-link.fitted:hover,\n",
       ".sk-estimator-doc-link.fitted:hover,\n",
       "div.sk-label-container:hover .sk-estimator-doc-link.fitted:hover,\n",
       ".sk-estimator-doc-link.fitted:hover {\n",
       "  /* fitted */\n",
       "  background-color: var(--sklearn-color-fitted-level-3);\n",
       "  color: var(--sklearn-color-background);\n",
       "  text-decoration: none;\n",
       "}\n",
       "\n",
       "/* Span, style for the box shown on hovering the info icon */\n",
       ".sk-estimator-doc-link span {\n",
       "  display: none;\n",
       "  z-index: 9999;\n",
       "  position: relative;\n",
       "  font-weight: normal;\n",
       "  right: .2ex;\n",
       "  padding: .5ex;\n",
       "  margin: .5ex;\n",
       "  width: min-content;\n",
       "  min-width: 20ex;\n",
       "  max-width: 50ex;\n",
       "  color: var(--sklearn-color-text);\n",
       "  box-shadow: 2pt 2pt 4pt #999;\n",
       "  /* unfitted */\n",
       "  background: var(--sklearn-color-unfitted-level-0);\n",
       "  border: .5pt solid var(--sklearn-color-unfitted-level-3);\n",
       "}\n",
       "\n",
       ".sk-estimator-doc-link.fitted span {\n",
       "  /* fitted */\n",
       "  background: var(--sklearn-color-fitted-level-0);\n",
       "  border: var(--sklearn-color-fitted-level-3);\n",
       "}\n",
       "\n",
       ".sk-estimator-doc-link:hover span {\n",
       "  display: block;\n",
       "}\n",
       "\n",
       "/* \"?\"-specific style due to the `<a>` HTML tag */\n",
       "\n",
       "#sk-container-id-3 a.estimator_doc_link {\n",
       "  float: right;\n",
       "  font-size: 1rem;\n",
       "  line-height: 1em;\n",
       "  font-family: monospace;\n",
       "  background-color: var(--sklearn-color-background);\n",
       "  border-radius: 1rem;\n",
       "  height: 1rem;\n",
       "  width: 1rem;\n",
       "  text-decoration: none;\n",
       "  /* unfitted */\n",
       "  color: var(--sklearn-color-unfitted-level-1);\n",
       "  border: var(--sklearn-color-unfitted-level-1) 1pt solid;\n",
       "}\n",
       "\n",
       "#sk-container-id-3 a.estimator_doc_link.fitted {\n",
       "  /* fitted */\n",
       "  border: var(--sklearn-color-fitted-level-1) 1pt solid;\n",
       "  color: var(--sklearn-color-fitted-level-1);\n",
       "}\n",
       "\n",
       "/* On hover */\n",
       "#sk-container-id-3 a.estimator_doc_link:hover {\n",
       "  /* unfitted */\n",
       "  background-color: var(--sklearn-color-unfitted-level-3);\n",
       "  color: var(--sklearn-color-background);\n",
       "  text-decoration: none;\n",
       "}\n",
       "\n",
       "#sk-container-id-3 a.estimator_doc_link.fitted:hover {\n",
       "  /* fitted */\n",
       "  background-color: var(--sklearn-color-fitted-level-3);\n",
       "}\n",
       "</style><div id=\"sk-container-id-3\" class=\"sk-top-container\"><div class=\"sk-text-repr-fallback\"><pre>RandomForestClassifier(n_estimators=200, random_state=42)</pre><b>In a Jupyter environment, please rerun this cell to show the HTML representation or trust the notebook. <br />On GitHub, the HTML representation is unable to render, please try loading this page with nbviewer.org.</b></div><div class=\"sk-container\" hidden><div class=\"sk-item\"><div class=\"sk-estimator fitted sk-toggleable\"><input class=\"sk-toggleable__control sk-hidden--visually\" id=\"sk-estimator-id-3\" type=\"checkbox\" checked><label for=\"sk-estimator-id-3\" class=\"sk-toggleable__label fitted sk-toggleable__label-arrow fitted\">&nbsp;&nbsp;RandomForestClassifier<a class=\"sk-estimator-doc-link fitted\" rel=\"noreferrer\" target=\"_blank\" href=\"https://scikit-learn.org/1.5/modules/generated/sklearn.ensemble.RandomForestClassifier.html\">?<span>Documentation for RandomForestClassifier</span></a><span class=\"sk-estimator-doc-link fitted\">i<span>Fitted</span></span></label><div class=\"sk-toggleable__content fitted\"><pre>RandomForestClassifier(n_estimators=200, random_state=42)</pre></div> </div></div></div></div>"
      ],
      "text/plain": [
       "RandomForestClassifier(n_estimators=200, random_state=42)"
      ]
     },
     "execution_count": 71,
     "metadata": {},
     "output_type": "execute_result"
    }
   ],
   "source": [
    "randomforest = RandomForestClassifier(n_estimators= 200, random_state= 42)\n",
    "randomforest.fit(x_train,y_train)"
   ]
  },
  {
   "cell_type": "code",
   "execution_count": 72,
   "metadata": {},
   "outputs": [
    {
     "name": "stderr",
     "output_type": "stream",
     "text": [
      "C:\\Users\\mathi\\AppData\\Local\\Packages\\PythonSoftwareFoundation.Python.3.12_qbz5n2kfra8p0\\LocalCache\\local-packages\\Python312\\site-packages\\sklearn\\base.py:1473: DataConversionWarning: A column-vector y was passed when a 1d array was expected. Please change the shape of y to (n_samples,), for example using ravel().\n",
      "  return fit_method(estimator, *args, **kwargs)\n"
     ]
    }
   ],
   "source": [
    "gridsearch = GridSearchCV(estimator=randomforest, param_grid= {'n_estimators' : [i*25 for i in range(1,18)]},cv= 5, n_jobs=-1)\n",
    "meilleur_model = gridsearch.fit(x_train, y_train)"
   ]
  },
  {
   "cell_type": "code",
   "execution_count": 73,
   "metadata": {},
   "outputs": [
    {
     "name": "stdout",
     "output_type": "stream",
     "text": [
      "RandomForestClassifier(n_estimators=325, random_state=42)\n"
     ]
    }
   ],
   "source": [
    "print(gridsearch.best_estimator_)"
   ]
  },
  {
   "cell_type": "markdown",
   "metadata": {},
   "source": [
    "### Métrique pour la classification"
   ]
  },
  {
   "cell_type": "code",
   "execution_count": 74,
   "metadata": {},
   "outputs": [
    {
     "name": "stderr",
     "output_type": "stream",
     "text": [
      "C:\\Users\\mathi\\AppData\\Local\\Packages\\PythonSoftwareFoundation.Python.3.12_qbz5n2kfra8p0\\LocalCache\\local-packages\\Python312\\site-packages\\sklearn\\base.py:1473: DataConversionWarning: A column-vector y was passed when a 1d array was expected. Please change the shape of y to (n_samples,), for example using ravel().\n",
      "  return fit_method(estimator, *args, **kwargs)\n",
      "C:\\Users\\mathi\\AppData\\Local\\Packages\\PythonSoftwareFoundation.Python.3.12_qbz5n2kfra8p0\\LocalCache\\local-packages\\Python312\\site-packages\\sklearn\\base.py:1473: DataConversionWarning: A column-vector y was passed when a 1d array was expected. Please change the shape of y to (n_samples,), for example using ravel().\n",
      "  return fit_method(estimator, *args, **kwargs)\n",
      "C:\\Users\\mathi\\AppData\\Local\\Packages\\PythonSoftwareFoundation.Python.3.12_qbz5n2kfra8p0\\LocalCache\\local-packages\\Python312\\site-packages\\sklearn\\base.py:1473: DataConversionWarning: A column-vector y was passed when a 1d array was expected. Please change the shape of y to (n_samples,), for example using ravel().\n",
      "  return fit_method(estimator, *args, **kwargs)\n"
     ]
    },
    {
     "name": "stdout",
     "output_type": "stream",
     "text": [
      "[0.7173913  0.76086957 0.77777778]\n"
     ]
    }
   ],
   "source": [
    "taux = cross_val_score(meilleur_model, x_train, y_train, cv = 3, scoring='accuracy')\n",
    "print(taux)"
   ]
  },
  {
   "cell_type": "code",
   "execution_count": 75,
   "metadata": {},
   "outputs": [
    {
     "name": "stdout",
     "output_type": "stream",
     "text": [
      "0.752012882447665\n"
     ]
    }
   ],
   "source": [
    "print(np.mean(taux))"
   ]
  },
  {
   "cell_type": "markdown",
   "metadata": {},
   "source": [
    "#### Matrice de confusion"
   ]
  },
  {
   "cell_type": "code",
   "execution_count": 76,
   "metadata": {},
   "outputs": [
    {
     "name": "stderr",
     "output_type": "stream",
     "text": [
      "C:\\Users\\mathi\\AppData\\Local\\Packages\\PythonSoftwareFoundation.Python.3.12_qbz5n2kfra8p0\\LocalCache\\local-packages\\Python312\\site-packages\\sklearn\\base.py:1473: DataConversionWarning: A column-vector y was passed when a 1d array was expected. Please change the shape of y to (n_samples,), for example using ravel().\n",
      "  return fit_method(estimator, *args, **kwargs)\n",
      "C:\\Users\\mathi\\AppData\\Local\\Packages\\PythonSoftwareFoundation.Python.3.12_qbz5n2kfra8p0\\LocalCache\\local-packages\\Python312\\site-packages\\sklearn\\base.py:1473: DataConversionWarning: A column-vector y was passed when a 1d array was expected. Please change the shape of y to (n_samples,), for example using ravel().\n",
      "  return fit_method(estimator, *args, **kwargs)\n",
      "C:\\Users\\mathi\\AppData\\Local\\Packages\\PythonSoftwareFoundation.Python.3.12_qbz5n2kfra8p0\\LocalCache\\local-packages\\Python312\\site-packages\\sklearn\\base.py:1473: DataConversionWarning: A column-vector y was passed when a 1d array was expected. Please change the shape of y to (n_samples,), for example using ravel().\n",
      "  return fit_method(estimator, *args, **kwargs)\n"
     ]
    },
    {
     "name": "stdout",
     "output_type": "stream",
     "text": [
      "[1 0 0 1 1 1 0 1 0 0 0 0 1 1 0 1 0 0 0 0 1 1 0 1 1 1 1 0 1 0 1 1 1 1 1 1 1\n",
      " 1 0 1 1 1 1 1 1 1 1 1 1 1 1 1 1 1 1 1 1 1 0 1 0 1 1 1 1 1 1 1 1 1 1 1 1 1\n",
      " 1 1 1 1 1 1 1 0 1 1 1 1 1 0 1 1 1 1 1 1 1 1 0 1 0 1 1 0 0 0 1 1 1 1 1 1 0\n",
      " 0 1 1 1 1 1 0 1 1 1 1 1 1 1 0 1 1 1 1 1 1 1 1 0 1 1]\n"
     ]
    }
   ],
   "source": [
    "predictions = cross_val_predict(gridsearch, x_train, y_train, cv = 3)\n",
    "print(predictions)"
   ]
  },
  {
   "cell_type": "code",
   "execution_count": 77,
   "metadata": {},
   "outputs": [
    {
     "name": "stdout",
     "output_type": "stream",
     "text": [
      "[[0.45238095 0.54761905]\n",
      " [0.11578947 0.88421053]]\n"
     ]
    }
   ],
   "source": [
    "matrice = confusion_matrix(y_train,predictions, normalize = \"true\")\n",
    "print(matrice)"
   ]
  },
  {
   "cell_type": "markdown",
   "metadata": {},
   "source": [
    "### Autres classifieurs"
   ]
  },
  {
   "cell_type": "code",
   "execution_count": 78,
   "metadata": {},
   "outputs": [
    {
     "name": "stderr",
     "output_type": "stream",
     "text": [
      "C:\\Users\\mathi\\AppData\\Local\\Packages\\PythonSoftwareFoundation.Python.3.12_qbz5n2kfra8p0\\LocalCache\\local-packages\\Python312\\site-packages\\sklearn\\utils\\validation.py:1310: DataConversionWarning: A column-vector y was passed when a 1d array was expected. Please change the shape of y to (n_samples, ), for example using ravel().\n",
      "  y = column_or_1d(y, warn=True)\n",
      "C:\\Users\\mathi\\AppData\\Local\\Packages\\PythonSoftwareFoundation.Python.3.12_qbz5n2kfra8p0\\LocalCache\\local-packages\\Python312\\site-packages\\sklearn\\ensemble\\_weight_boosting.py:527: FutureWarning: The SAMME.R algorithm (the default) is deprecated and will be removed in 1.6. Use the SAMME algorithm to circumvent this warning.\n",
      "  warnings.warn(\n",
      "C:\\Users\\mathi\\AppData\\Local\\Packages\\PythonSoftwareFoundation.Python.3.12_qbz5n2kfra8p0\\LocalCache\\local-packages\\Python312\\site-packages\\sklearn\\utils\\validation.py:1310: DataConversionWarning: A column-vector y was passed when a 1d array was expected. Please change the shape of y to (n_samples, ), for example using ravel().\n",
      "  y = column_or_1d(y, warn=True)\n",
      "C:\\Users\\mathi\\AppData\\Local\\Packages\\PythonSoftwareFoundation.Python.3.12_qbz5n2kfra8p0\\LocalCache\\local-packages\\Python312\\site-packages\\sklearn\\ensemble\\_weight_boosting.py:527: FutureWarning: The SAMME.R algorithm (the default) is deprecated and will be removed in 1.6. Use the SAMME algorithm to circumvent this warning.\n",
      "  warnings.warn(\n",
      "C:\\Users\\mathi\\AppData\\Local\\Packages\\PythonSoftwareFoundation.Python.3.12_qbz5n2kfra8p0\\LocalCache\\local-packages\\Python312\\site-packages\\sklearn\\utils\\validation.py:1310: DataConversionWarning: A column-vector y was passed when a 1d array was expected. Please change the shape of y to (n_samples, ), for example using ravel().\n",
      "  y = column_or_1d(y, warn=True)\n",
      "C:\\Users\\mathi\\AppData\\Local\\Packages\\PythonSoftwareFoundation.Python.3.12_qbz5n2kfra8p0\\LocalCache\\local-packages\\Python312\\site-packages\\sklearn\\ensemble\\_weight_boosting.py:527: FutureWarning: The SAMME.R algorithm (the default) is deprecated and will be removed in 1.6. Use the SAMME algorithm to circumvent this warning.\n",
      "  warnings.warn(\n",
      "C:\\Users\\mathi\\AppData\\Local\\Packages\\PythonSoftwareFoundation.Python.3.12_qbz5n2kfra8p0\\LocalCache\\local-packages\\Python312\\site-packages\\sklearn\\utils\\validation.py:1310: DataConversionWarning: A column-vector y was passed when a 1d array was expected. Please change the shape of y to (n_samples, ), for example using ravel().\n",
      "  y = column_or_1d(y, warn=True)\n",
      "C:\\Users\\mathi\\AppData\\Local\\Packages\\PythonSoftwareFoundation.Python.3.12_qbz5n2kfra8p0\\LocalCache\\local-packages\\Python312\\site-packages\\sklearn\\ensemble\\_weight_boosting.py:527: FutureWarning: The SAMME.R algorithm (the default) is deprecated and will be removed in 1.6. Use the SAMME algorithm to circumvent this warning.\n",
      "  warnings.warn(\n",
      "C:\\Users\\mathi\\AppData\\Local\\Packages\\PythonSoftwareFoundation.Python.3.12_qbz5n2kfra8p0\\LocalCache\\local-packages\\Python312\\site-packages\\sklearn\\utils\\validation.py:1310: DataConversionWarning: A column-vector y was passed when a 1d array was expected. Please change the shape of y to (n_samples, ), for example using ravel().\n",
      "  y = column_or_1d(y, warn=True)\n",
      "C:\\Users\\mathi\\AppData\\Local\\Packages\\PythonSoftwareFoundation.Python.3.12_qbz5n2kfra8p0\\LocalCache\\local-packages\\Python312\\site-packages\\sklearn\\ensemble\\_weight_boosting.py:527: FutureWarning: The SAMME.R algorithm (the default) is deprecated and will be removed in 1.6. Use the SAMME algorithm to circumvent this warning.\n",
      "  warnings.warn(\n"
     ]
    },
    {
     "name": "stdout",
     "output_type": "stream",
     "text": [
      "[0.73913043 0.63043478 0.71111111]\n",
      "0.6935587761674719\n"
     ]
    },
    {
     "name": "stderr",
     "output_type": "stream",
     "text": [
      "C:\\Users\\mathi\\AppData\\Local\\Packages\\PythonSoftwareFoundation.Python.3.12_qbz5n2kfra8p0\\LocalCache\\local-packages\\Python312\\site-packages\\sklearn\\utils\\validation.py:1310: DataConversionWarning: A column-vector y was passed when a 1d array was expected. Please change the shape of y to (n_samples, ), for example using ravel().\n",
      "  y = column_or_1d(y, warn=True)\n",
      "C:\\Users\\mathi\\AppData\\Local\\Packages\\PythonSoftwareFoundation.Python.3.12_qbz5n2kfra8p0\\LocalCache\\local-packages\\Python312\\site-packages\\sklearn\\ensemble\\_weight_boosting.py:527: FutureWarning: The SAMME.R algorithm (the default) is deprecated and will be removed in 1.6. Use the SAMME algorithm to circumvent this warning.\n",
      "  warnings.warn(\n",
      "C:\\Users\\mathi\\AppData\\Local\\Packages\\PythonSoftwareFoundation.Python.3.12_qbz5n2kfra8p0\\LocalCache\\local-packages\\Python312\\site-packages\\sklearn\\utils\\validation.py:1310: DataConversionWarning: A column-vector y was passed when a 1d array was expected. Please change the shape of y to (n_samples, ), for example using ravel().\n",
      "  y = column_or_1d(y, warn=True)\n",
      "C:\\Users\\mathi\\AppData\\Local\\Packages\\PythonSoftwareFoundation.Python.3.12_qbz5n2kfra8p0\\LocalCache\\local-packages\\Python312\\site-packages\\sklearn\\ensemble\\_weight_boosting.py:527: FutureWarning: The SAMME.R algorithm (the default) is deprecated and will be removed in 1.6. Use the SAMME algorithm to circumvent this warning.\n",
      "  warnings.warn(\n",
      "C:\\Users\\mathi\\AppData\\Local\\Packages\\PythonSoftwareFoundation.Python.3.12_qbz5n2kfra8p0\\LocalCache\\local-packages\\Python312\\site-packages\\sklearn\\utils\\validation.py:1310: DataConversionWarning: A column-vector y was passed when a 1d array was expected. Please change the shape of y to (n_samples, ), for example using ravel().\n",
      "  y = column_or_1d(y, warn=True)\n",
      "C:\\Users\\mathi\\AppData\\Local\\Packages\\PythonSoftwareFoundation.Python.3.12_qbz5n2kfra8p0\\LocalCache\\local-packages\\Python312\\site-packages\\sklearn\\ensemble\\_weight_boosting.py:527: FutureWarning: The SAMME.R algorithm (the default) is deprecated and will be removed in 1.6. Use the SAMME algorithm to circumvent this warning.\n",
      "  warnings.warn(\n"
     ]
    },
    {
     "name": "stdout",
     "output_type": "stream",
     "text": [
      "[1 0 1 1 1 1 1 1 0 1 1 0 1 1 1 1 1 1 0 0 0 1 1 1 1 1 1 0 1 0 1 0 1 1 1 1 0\n",
      " 1 1 1 1 1 1 1 1 1 1 0 1 1 1 1 1 0 1 1 1 1 1 1 1 1 0 1 1 1 1 1 1 1 1 1 1 1\n",
      " 1 1 1 1 0 1 1 0 1 1 1 1 1 0 1 1 0 1 1 0 1 1 0 1 0 0 1 1 0 0 1 1 1 1 1 1 0\n",
      " 0 1 0 1 1 1 0 1 1 1 1 0 1 1 1 1 1 1 1 1 1 1 0 0 1 1]\n",
      "[[0.35714286 0.64285714]\n",
      " [0.15789474 0.84210526]]\n"
     ]
    }
   ],
   "source": [
    "from sklearn.ensemble import AdaBoostClassifier\n",
    "\n",
    "ada = AdaBoostClassifier(n_estimators= 175, random_state= 42)\n",
    "ada.fit(x_train,y_train)\n",
    "\n",
    "gridsearch = GridSearchCV(estimator=ada, param_grid= {'n_estimators' : [i*25 for i in range(1,20)]},cv= 5, n_jobs=-1)\n",
    "meilleur_model = gridsearch.fit(x_train, y_train)\n",
    "\n",
    "taux = cross_val_score(meilleur_model, x_train, y_train, cv = 3, scoring='accuracy')\n",
    "print(taux)\n",
    "\n",
    "print(np.mean(taux))\n",
    "\n",
    "predictions = cross_val_predict(gridsearch, x_train, y_train, cv = 3)\n",
    "print(predictions)\n",
    "\n",
    "matrice = confusion_matrix(y_train,predictions, normalize = \"true\")\n",
    "print(matrice)"
   ]
  },
  {
   "cell_type": "code",
   "execution_count": 79,
   "metadata": {},
   "outputs": [
    {
     "name": "stdout",
     "output_type": "stream",
     "text": [
      "[0.76086957 0.67391304 0.68888889]"
     ]
    },
    {
     "name": "stderr",
     "output_type": "stream",
     "text": [
      "C:\\Users\\mathi\\AppData\\Local\\Packages\\PythonSoftwareFoundation.Python.3.12_qbz5n2kfra8p0\\LocalCache\\local-packages\\Python312\\site-packages\\sklearn\\neural_network\\_multilayer_perceptron.py:1105: DataConversionWarning: A column-vector y was passed when a 1d array was expected. Please change the shape of y to (n_samples, ), for example using ravel().\n",
      "  y = column_or_1d(y, warn=True)\n",
      "C:\\Users\\mathi\\AppData\\Local\\Packages\\PythonSoftwareFoundation.Python.3.12_qbz5n2kfra8p0\\LocalCache\\local-packages\\Python312\\site-packages\\sklearn\\neural_network\\_multilayer_perceptron.py:1105: DataConversionWarning: A column-vector y was passed when a 1d array was expected. Please change the shape of y to (n_samples, ), for example using ravel().\n",
      "  y = column_or_1d(y, warn=True)\n",
      "C:\\Users\\mathi\\AppData\\Local\\Packages\\PythonSoftwareFoundation.Python.3.12_qbz5n2kfra8p0\\LocalCache\\local-packages\\Python312\\site-packages\\sklearn\\neural_network\\_multilayer_perceptron.py:1105: DataConversionWarning: A column-vector y was passed when a 1d array was expected. Please change the shape of y to (n_samples, ), for example using ravel().\n",
      "  y = column_or_1d(y, warn=True)\n",
      "C:\\Users\\mathi\\AppData\\Local\\Packages\\PythonSoftwareFoundation.Python.3.12_qbz5n2kfra8p0\\LocalCache\\local-packages\\Python312\\site-packages\\sklearn\\neural_network\\_multilayer_perceptron.py:1105: DataConversionWarning: A column-vector y was passed when a 1d array was expected. Please change the shape of y to (n_samples, ), for example using ravel().\n",
      "  y = column_or_1d(y, warn=True)\n",
      "C:\\Users\\mathi\\AppData\\Local\\Packages\\PythonSoftwareFoundation.Python.3.12_qbz5n2kfra8p0\\LocalCache\\local-packages\\Python312\\site-packages\\sklearn\\neural_network\\_multilayer_perceptron.py:1105: DataConversionWarning: A column-vector y was passed when a 1d array was expected. Please change the shape of y to (n_samples, ), for example using ravel().\n",
      "  y = column_or_1d(y, warn=True)\n"
     ]
    },
    {
     "name": "stdout",
     "output_type": "stream",
     "text": [
      "\n",
      "0.7078904991948471\n",
      "[1 0 1 1 1 1 1 1 1 1 1 1 0 1 1 0 1 1 1 1 1 1 1 1 1 1 1 1 1 1 1 1 1 1 1 1 1\n",
      " 1 1 1 1 1 1 1 1 1 1 1 1 1 1 0 1 1 1 1 1 1 1 1 1 1 1 1 1 1 1 1 1 1 1 1 1 1\n",
      " 1 1 1 1 1 1 1 1 1 1 1 1 1 1 0 1 1 1 1 1 1 1 1 1 1 1 1 1 0 1 1 1 1 1 1 1 1\n",
      " 1 1 1 1 1 1 1 1 0 1 1 1 1 1 1 1 1 1 1 1 1 1 1 1 1 0]\n",
      "[[0.11904762 0.88095238]\n",
      " [0.03157895 0.96842105]]\n"
     ]
    },
    {
     "name": "stderr",
     "output_type": "stream",
     "text": [
      "C:\\Users\\mathi\\AppData\\Local\\Packages\\PythonSoftwareFoundation.Python.3.12_qbz5n2kfra8p0\\LocalCache\\local-packages\\Python312\\site-packages\\sklearn\\neural_network\\_multilayer_perceptron.py:1105: DataConversionWarning: A column-vector y was passed when a 1d array was expected. Please change the shape of y to (n_samples, ), for example using ravel().\n",
      "  y = column_or_1d(y, warn=True)\n",
      "C:\\Users\\mathi\\AppData\\Local\\Packages\\PythonSoftwareFoundation.Python.3.12_qbz5n2kfra8p0\\LocalCache\\local-packages\\Python312\\site-packages\\sklearn\\neural_network\\_multilayer_perceptron.py:1105: DataConversionWarning: A column-vector y was passed when a 1d array was expected. Please change the shape of y to (n_samples, ), for example using ravel().\n",
      "  y = column_or_1d(y, warn=True)\n"
     ]
    }
   ],
   "source": [
    "mlp = MLPClassifier(hidden_layer_sizes=(28,60),random_state= 42)\n",
    "mlp.fit(x_train,y_train)\n",
    "\n",
    "taux = cross_val_score(mlp, x_train, y_train, cv = 3, scoring='accuracy')\n",
    "print(taux)\n",
    "\n",
    "print(np.mean(taux))\n",
    "\n",
    "predictions = cross_val_predict(mlp, x_train, y_train, cv = 3)\n",
    "print(predictions)\n",
    "\n",
    "matrice = confusion_matrix(y_train,predictions, normalize = \"true\")\n",
    "print(matrice)"
   ]
  },
  {
   "cell_type": "markdown",
   "metadata": {},
   "source": [
    "### SMOTE"
   ]
  },
  {
   "cell_type": "code",
   "execution_count": 80,
   "metadata": {},
   "outputs": [
    {
     "name": "stderr",
     "output_type": "stream",
     "text": [
      "C:\\Users\\mathi\\AppData\\Local\\Packages\\PythonSoftwareFoundation.Python.3.12_qbz5n2kfra8p0\\LocalCache\\local-packages\\Python312\\site-packages\\imblearn\\over_sampling\\_smote\\base.py:370: FutureWarning: The parameter `n_jobs` has been deprecated in 0.10 and will be removed in 0.12. You can pass an nearest neighbors estimator where `n_jobs` is already set instead.\n",
      "  warnings.warn(\n"
     ]
    }
   ],
   "source": [
    "from imblearn.over_sampling import SMOTE\n",
    "\n",
    "smote = SMOTE(random_state=42, n_jobs=-1)\n",
    "xsmote, ysmote = smote.fit_resample(x_train,y_train)"
   ]
  },
  {
   "cell_type": "code",
   "execution_count": 81,
   "metadata": {},
   "outputs": [
    {
     "name": "stderr",
     "output_type": "stream",
     "text": [
      "C:\\Users\\mathi\\AppData\\Local\\Packages\\PythonSoftwareFoundation.Python.3.12_qbz5n2kfra8p0\\LocalCache\\local-packages\\Python312\\site-packages\\sklearn\\utils\\validation.py:1310: DataConversionWarning: A column-vector y was passed when a 1d array was expected. Please change the shape of y to (n_samples, ), for example using ravel().\n",
      "  y = column_or_1d(y, warn=True)\n",
      "C:\\Users\\mathi\\AppData\\Local\\Packages\\PythonSoftwareFoundation.Python.3.12_qbz5n2kfra8p0\\LocalCache\\local-packages\\Python312\\site-packages\\sklearn\\ensemble\\_weight_boosting.py:527: FutureWarning: The SAMME.R algorithm (the default) is deprecated and will be removed in 1.6. Use the SAMME algorithm to circumvent this warning.\n",
      "  warnings.warn(\n",
      "C:\\Users\\mathi\\AppData\\Local\\Packages\\PythonSoftwareFoundation.Python.3.12_qbz5n2kfra8p0\\LocalCache\\local-packages\\Python312\\site-packages\\sklearn\\utils\\validation.py:1310: DataConversionWarning: A column-vector y was passed when a 1d array was expected. Please change the shape of y to (n_samples, ), for example using ravel().\n",
      "  y = column_or_1d(y, warn=True)\n",
      "C:\\Users\\mathi\\AppData\\Local\\Packages\\PythonSoftwareFoundation.Python.3.12_qbz5n2kfra8p0\\LocalCache\\local-packages\\Python312\\site-packages\\sklearn\\ensemble\\_weight_boosting.py:527: FutureWarning: The SAMME.R algorithm (the default) is deprecated and will be removed in 1.6. Use the SAMME algorithm to circumvent this warning.\n",
      "  warnings.warn(\n",
      "C:\\Users\\mathi\\AppData\\Local\\Packages\\PythonSoftwareFoundation.Python.3.12_qbz5n2kfra8p0\\LocalCache\\local-packages\\Python312\\site-packages\\sklearn\\utils\\validation.py:1310: DataConversionWarning: A column-vector y was passed when a 1d array was expected. Please change the shape of y to (n_samples, ), for example using ravel().\n",
      "  y = column_or_1d(y, warn=True)\n",
      "C:\\Users\\mathi\\AppData\\Local\\Packages\\PythonSoftwareFoundation.Python.3.12_qbz5n2kfra8p0\\LocalCache\\local-packages\\Python312\\site-packages\\sklearn\\ensemble\\_weight_boosting.py:527: FutureWarning: The SAMME.R algorithm (the default) is deprecated and will be removed in 1.6. Use the SAMME algorithm to circumvent this warning.\n",
      "  warnings.warn(\n",
      "C:\\Users\\mathi\\AppData\\Local\\Packages\\PythonSoftwareFoundation.Python.3.12_qbz5n2kfra8p0\\LocalCache\\local-packages\\Python312\\site-packages\\sklearn\\utils\\validation.py:1310: DataConversionWarning: A column-vector y was passed when a 1d array was expected. Please change the shape of y to (n_samples, ), for example using ravel().\n",
      "  y = column_or_1d(y, warn=True)\n",
      "C:\\Users\\mathi\\AppData\\Local\\Packages\\PythonSoftwareFoundation.Python.3.12_qbz5n2kfra8p0\\LocalCache\\local-packages\\Python312\\site-packages\\sklearn\\ensemble\\_weight_boosting.py:527: FutureWarning: The SAMME.R algorithm (the default) is deprecated and will be removed in 1.6. Use the SAMME algorithm to circumvent this warning.\n",
      "  warnings.warn(\n",
      "C:\\Users\\mathi\\AppData\\Local\\Packages\\PythonSoftwareFoundation.Python.3.12_qbz5n2kfra8p0\\LocalCache\\local-packages\\Python312\\site-packages\\sklearn\\utils\\validation.py:1310: DataConversionWarning: A column-vector y was passed when a 1d array was expected. Please change the shape of y to (n_samples, ), for example using ravel().\n",
      "  y = column_or_1d(y, warn=True)\n",
      "C:\\Users\\mathi\\AppData\\Local\\Packages\\PythonSoftwareFoundation.Python.3.12_qbz5n2kfra8p0\\LocalCache\\local-packages\\Python312\\site-packages\\sklearn\\ensemble\\_weight_boosting.py:527: FutureWarning: The SAMME.R algorithm (the default) is deprecated and will be removed in 1.6. Use the SAMME algorithm to circumvent this warning.\n",
      "  warnings.warn(\n"
     ]
    },
    {
     "name": "stdout",
     "output_type": "stream",
     "text": [
      "[0.71875    0.77777778 0.79365079]\n",
      "0.7633928571428571\n"
     ]
    },
    {
     "name": "stderr",
     "output_type": "stream",
     "text": [
      "C:\\Users\\mathi\\AppData\\Local\\Packages\\PythonSoftwareFoundation.Python.3.12_qbz5n2kfra8p0\\LocalCache\\local-packages\\Python312\\site-packages\\sklearn\\utils\\validation.py:1310: DataConversionWarning: A column-vector y was passed when a 1d array was expected. Please change the shape of y to (n_samples, ), for example using ravel().\n",
      "  y = column_or_1d(y, warn=True)\n",
      "C:\\Users\\mathi\\AppData\\Local\\Packages\\PythonSoftwareFoundation.Python.3.12_qbz5n2kfra8p0\\LocalCache\\local-packages\\Python312\\site-packages\\sklearn\\ensemble\\_weight_boosting.py:527: FutureWarning: The SAMME.R algorithm (the default) is deprecated and will be removed in 1.6. Use the SAMME algorithm to circumvent this warning.\n",
      "  warnings.warn(\n",
      "C:\\Users\\mathi\\AppData\\Local\\Packages\\PythonSoftwareFoundation.Python.3.12_qbz5n2kfra8p0\\LocalCache\\local-packages\\Python312\\site-packages\\sklearn\\utils\\validation.py:1310: DataConversionWarning: A column-vector y was passed when a 1d array was expected. Please change the shape of y to (n_samples, ), for example using ravel().\n",
      "  y = column_or_1d(y, warn=True)\n",
      "C:\\Users\\mathi\\AppData\\Local\\Packages\\PythonSoftwareFoundation.Python.3.12_qbz5n2kfra8p0\\LocalCache\\local-packages\\Python312\\site-packages\\sklearn\\ensemble\\_weight_boosting.py:527: FutureWarning: The SAMME.R algorithm (the default) is deprecated and will be removed in 1.6. Use the SAMME algorithm to circumvent this warning.\n",
      "  warnings.warn(\n",
      "C:\\Users\\mathi\\AppData\\Local\\Packages\\PythonSoftwareFoundation.Python.3.12_qbz5n2kfra8p0\\LocalCache\\local-packages\\Python312\\site-packages\\sklearn\\utils\\validation.py:1310: DataConversionWarning: A column-vector y was passed when a 1d array was expected. Please change the shape of y to (n_samples, ), for example using ravel().\n",
      "  y = column_or_1d(y, warn=True)\n",
      "C:\\Users\\mathi\\AppData\\Local\\Packages\\PythonSoftwareFoundation.Python.3.12_qbz5n2kfra8p0\\LocalCache\\local-packages\\Python312\\site-packages\\sklearn\\ensemble\\_weight_boosting.py:527: FutureWarning: The SAMME.R algorithm (the default) is deprecated and will be removed in 1.6. Use the SAMME algorithm to circumvent this warning.\n",
      "  warnings.warn(\n"
     ]
    },
    {
     "name": "stdout",
     "output_type": "stream",
     "text": [
      "[1 0 1 1 0 1 0 1 0 1 0 0 0 1 1 0 1 1 0 0 1 1 1 1 1 1 1 0 0 0 1 1 0 1 1 1 1\n",
      " 0 0 1 1 1 1 1 1 1 1 1 1 1 0 1 1 1 1 0 1 1 0 1 0 0 0 1 0 1 1 1 1 1 1 1 1 0\n",
      " 1 1 1 1 1 0 0 0 1 1 1 0 1 1 0 1 1 1 1 1 1 0 0 1 0 0 1 1 0 0 1 0 1 1 1 1 1\n",
      " 0 1 1 1 1 0 0 0 1 1 1 0 0 1 0 1 1 1 1 1 1 1 0 1 1 1 0 0 0 0 0 0 1 0 1 0 0\n",
      " 0 0 0 0 1 0 0 0 0 1 0 0 0 0 0 0 0 0 0 0 0 0 0 1 0 0 1 0 0 0 0 0 0 1 0 0 0\n",
      " 0 1 0 0 1]\n",
      "[[0.72631579 0.27368421]\n",
      " [0.2        0.8       ]]\n"
     ]
    }
   ],
   "source": [
    "ada_smote = AdaBoostClassifier(n_estimators= 175, random_state= 42)\n",
    "ada_smote.fit(xsmote,ysmote)\n",
    "\n",
    "gridsearch = GridSearchCV(estimator=ada_smote, param_grid= {'n_estimators' : [i*25 for i in range(1,20)]},cv= 5, n_jobs=-1)\n",
    "meilleur_model = gridsearch.fit(xsmote, ysmote)\n",
    "\n",
    "taux = cross_val_score(meilleur_model, xsmote, ysmote, cv = 3, scoring='accuracy')\n",
    "print(taux)\n",
    "\n",
    "print(np.mean(taux))\n",
    "\n",
    "predictions = cross_val_predict(gridsearch, xsmote, ysmote, cv = 3)\n",
    "print(predictions)\n",
    "\n",
    "matrice = confusion_matrix(ysmote,predictions, normalize = \"true\")\n",
    "print(matrice)"
   ]
  },
  {
   "cell_type": "markdown",
   "metadata": {},
   "source": [
    "Random forest"
   ]
  },
  {
   "cell_type": "code",
   "execution_count": 82,
   "metadata": {},
   "outputs": [
    {
     "name": "stderr",
     "output_type": "stream",
     "text": [
      "C:\\Users\\mathi\\AppData\\Local\\Packages\\PythonSoftwareFoundation.Python.3.12_qbz5n2kfra8p0\\LocalCache\\local-packages\\Python312\\site-packages\\sklearn\\base.py:1473: DataConversionWarning: A column-vector y was passed when a 1d array was expected. Please change the shape of y to (n_samples,), for example using ravel().\n",
      "  return fit_method(estimator, *args, **kwargs)\n",
      "C:\\Users\\mathi\\AppData\\Local\\Packages\\PythonSoftwareFoundation.Python.3.12_qbz5n2kfra8p0\\LocalCache\\local-packages\\Python312\\site-packages\\sklearn\\base.py:1473: DataConversionWarning: A column-vector y was passed when a 1d array was expected. Please change the shape of y to (n_samples,), for example using ravel().\n",
      "  return fit_method(estimator, *args, **kwargs)\n",
      "C:\\Users\\mathi\\AppData\\Local\\Packages\\PythonSoftwareFoundation.Python.3.12_qbz5n2kfra8p0\\LocalCache\\local-packages\\Python312\\site-packages\\sklearn\\base.py:1473: DataConversionWarning: A column-vector y was passed when a 1d array was expected. Please change the shape of y to (n_samples,), for example using ravel().\n",
      "  return fit_method(estimator, *args, **kwargs)\n",
      "C:\\Users\\mathi\\AppData\\Local\\Packages\\PythonSoftwareFoundation.Python.3.12_qbz5n2kfra8p0\\LocalCache\\local-packages\\Python312\\site-packages\\sklearn\\base.py:1473: DataConversionWarning: A column-vector y was passed when a 1d array was expected. Please change the shape of y to (n_samples,), for example using ravel().\n",
      "  return fit_method(estimator, *args, **kwargs)\n",
      "C:\\Users\\mathi\\AppData\\Local\\Packages\\PythonSoftwareFoundation.Python.3.12_qbz5n2kfra8p0\\LocalCache\\local-packages\\Python312\\site-packages\\sklearn\\base.py:1473: DataConversionWarning: A column-vector y was passed when a 1d array was expected. Please change the shape of y to (n_samples,), for example using ravel().\n",
      "  return fit_method(estimator, *args, **kwargs)\n"
     ]
    },
    {
     "name": "stdout",
     "output_type": "stream",
     "text": [
      "[0.703125   0.88888889 0.9047619 ]\n",
      "0.8322585978835978\n"
     ]
    },
    {
     "name": "stderr",
     "output_type": "stream",
     "text": [
      "C:\\Users\\mathi\\AppData\\Local\\Packages\\PythonSoftwareFoundation.Python.3.12_qbz5n2kfra8p0\\LocalCache\\local-packages\\Python312\\site-packages\\sklearn\\base.py:1473: DataConversionWarning: A column-vector y was passed when a 1d array was expected. Please change the shape of y to (n_samples,), for example using ravel().\n",
      "  return fit_method(estimator, *args, **kwargs)\n",
      "C:\\Users\\mathi\\AppData\\Local\\Packages\\PythonSoftwareFoundation.Python.3.12_qbz5n2kfra8p0\\LocalCache\\local-packages\\Python312\\site-packages\\sklearn\\base.py:1473: DataConversionWarning: A column-vector y was passed when a 1d array was expected. Please change the shape of y to (n_samples,), for example using ravel().\n",
      "  return fit_method(estimator, *args, **kwargs)\n",
      "C:\\Users\\mathi\\AppData\\Local\\Packages\\PythonSoftwareFoundation.Python.3.12_qbz5n2kfra8p0\\LocalCache\\local-packages\\Python312\\site-packages\\sklearn\\base.py:1473: DataConversionWarning: A column-vector y was passed when a 1d array was expected. Please change the shape of y to (n_samples,), for example using ravel().\n",
      "  return fit_method(estimator, *args, **kwargs)\n"
     ]
    },
    {
     "name": "stdout",
     "output_type": "stream",
     "text": [
      "[1 0 1 1 0 1 0 1 0 1 0 0 0 1 1 0 1 1 0 0 1 1 1 1 1 1 1 0 0 0 1 1 1 1 1 1 0\n",
      " 0 0 1 1 1 1 1 1 1 1 0 1 1 1 1 1 1 1 1 1 1 0 1 0 1 1 1 0 1 0 1 1 1 0 1 1 0\n",
      " 1 1 1 1 1 1 1 0 1 1 1 1 1 1 1 1 1 1 1 1 1 1 0 1 0 1 1 0 0 0 0 1 1 1 1 1 0\n",
      " 0 1 1 1 1 1 0 1 1 1 1 1 1 1 0 1 1 1 1 1 1 1 1 1 1 1 0 0 0 0 0 0 0 0 0 0 0\n",
      " 0 0 0 0 0 0 0 0 0 1 0 0 0 0 0 0 0 0 0 0 0 0 0 1 0 0 0 0 0 0 0 0 0 1 0 0 0\n",
      " 0 1 0 0 0]\n",
      "[[0.76842105 0.23157895]\n",
      " [0.10526316 0.89473684]]\n"
     ]
    }
   ],
   "source": [
    "random = RandomForestClassifier(n_estimators= 175, random_state= 42)\n",
    "random.fit(xsmote,ysmote)\n",
    "\n",
    "gridsearch = GridSearchCV(estimator=random, param_grid= {'n_estimators' : [i*25 for i in range(3,15)]},cv= 5, n_jobs=-1)\n",
    "meilleur_model = gridsearch.fit(xsmote, ysmote)\n",
    "\n",
    "taux = cross_val_score(meilleur_model, xsmote, ysmote, cv = 3, scoring='accuracy')\n",
    "print(taux)\n",
    "\n",
    "print(np.mean(taux))\n",
    "\n",
    "predictions = cross_val_predict(gridsearch, xsmote, ysmote, cv = 3)\n",
    "print(predictions)\n",
    "\n",
    "matrice = confusion_matrix(ysmote,predictions, normalize = \"true\")\n",
    "print(matrice)"
   ]
  },
  {
   "cell_type": "markdown",
   "metadata": {},
   "source": [
    "base test"
   ]
  },
  {
   "cell_type": "code",
   "execution_count": 83,
   "metadata": {},
   "outputs": [
    {
     "name": "stdout",
     "output_type": "stream",
     "text": [
      "[0 1 1 1 0 0 0 1 1 0 1 1 0 1 0 1 0 1 0 0 1 1 0 1 0 1 1 0 0 1 0 0 0 1 1 0 1\n",
      " 0 1 0 1 1 1 1 1 1 1 1 1 0 1 1 1 1 0 0 1 1 1 1]\n",
      "[[0.72222222 0.27777778]\n",
      " [0.23809524 0.76190476]]\n"
     ]
    }
   ],
   "source": [
    "predictions = gridsearch.predict(x_test)\n",
    "print(predictions)\n",
    "\n",
    "matrice = confusion_matrix(y_test,predictions, normalize = \"true\")\n",
    "print(matrice)"
   ]
  },
  {
   "cell_type": "markdown",
   "metadata": {},
   "source": [
    "MLP\n"
   ]
  },
  {
   "cell_type": "code",
   "execution_count": 84,
   "metadata": {},
   "outputs": [
    {
     "name": "stderr",
     "output_type": "stream",
     "text": [
      "C:\\Users\\mathi\\AppData\\Local\\Packages\\PythonSoftwareFoundation.Python.3.12_qbz5n2kfra8p0\\LocalCache\\local-packages\\Python312\\site-packages\\sklearn\\neural_network\\_multilayer_perceptron.py:1105: DataConversionWarning: A column-vector y was passed when a 1d array was expected. Please change the shape of y to (n_samples, ), for example using ravel().\n",
      "  y = column_or_1d(y, warn=True)\n",
      "C:\\Users\\mathi\\AppData\\Local\\Packages\\PythonSoftwareFoundation.Python.3.12_qbz5n2kfra8p0\\LocalCache\\local-packages\\Python312\\site-packages\\sklearn\\neural_network\\_multilayer_perceptron.py:690: ConvergenceWarning: Stochastic Optimizer: Maximum iterations (200) reached and the optimization hasn't converged yet.\n",
      "  warnings.warn(\n",
      "C:\\Users\\mathi\\AppData\\Local\\Packages\\PythonSoftwareFoundation.Python.3.12_qbz5n2kfra8p0\\LocalCache\\local-packages\\Python312\\site-packages\\sklearn\\neural_network\\_multilayer_perceptron.py:1105: DataConversionWarning: A column-vector y was passed when a 1d array was expected. Please change the shape of y to (n_samples, ), for example using ravel().\n",
      "  y = column_or_1d(y, warn=True)\n",
      "C:\\Users\\mathi\\AppData\\Local\\Packages\\PythonSoftwareFoundation.Python.3.12_qbz5n2kfra8p0\\LocalCache\\local-packages\\Python312\\site-packages\\sklearn\\neural_network\\_multilayer_perceptron.py:690: ConvergenceWarning: Stochastic Optimizer: Maximum iterations (200) reached and the optimization hasn't converged yet.\n",
      "  warnings.warn(\n",
      "C:\\Users\\mathi\\AppData\\Local\\Packages\\PythonSoftwareFoundation.Python.3.12_qbz5n2kfra8p0\\LocalCache\\local-packages\\Python312\\site-packages\\sklearn\\neural_network\\_multilayer_perceptron.py:1105: DataConversionWarning: A column-vector y was passed when a 1d array was expected. Please change the shape of y to (n_samples, ), for example using ravel().\n",
      "  y = column_or_1d(y, warn=True)\n",
      "C:\\Users\\mathi\\AppData\\Local\\Packages\\PythonSoftwareFoundation.Python.3.12_qbz5n2kfra8p0\\LocalCache\\local-packages\\Python312\\site-packages\\sklearn\\neural_network\\_multilayer_perceptron.py:690: ConvergenceWarning: Stochastic Optimizer: Maximum iterations (200) reached and the optimization hasn't converged yet.\n",
      "  warnings.warn(\n",
      "C:\\Users\\mathi\\AppData\\Local\\Packages\\PythonSoftwareFoundation.Python.3.12_qbz5n2kfra8p0\\LocalCache\\local-packages\\Python312\\site-packages\\sklearn\\neural_network\\_multilayer_perceptron.py:1105: DataConversionWarning: A column-vector y was passed when a 1d array was expected. Please change the shape of y to (n_samples, ), for example using ravel().\n",
      "  y = column_or_1d(y, warn=True)\n",
      "C:\\Users\\mathi\\AppData\\Local\\Packages\\PythonSoftwareFoundation.Python.3.12_qbz5n2kfra8p0\\LocalCache\\local-packages\\Python312\\site-packages\\sklearn\\neural_network\\_multilayer_perceptron.py:690: ConvergenceWarning: Stochastic Optimizer: Maximum iterations (200) reached and the optimization hasn't converged yet.\n",
      "  warnings.warn(\n",
      "C:\\Users\\mathi\\AppData\\Local\\Packages\\PythonSoftwareFoundation.Python.3.12_qbz5n2kfra8p0\\LocalCache\\local-packages\\Python312\\site-packages\\sklearn\\neural_network\\_multilayer_perceptron.py:1105: DataConversionWarning: A column-vector y was passed when a 1d array was expected. Please change the shape of y to (n_samples, ), for example using ravel().\n",
      "  y = column_or_1d(y, warn=True)\n"
     ]
    },
    {
     "name": "stdout",
     "output_type": "stream",
     "text": [
      "[0.671875   0.63492063 0.6984127 ]\n",
      "0.6684027777777777\n"
     ]
    },
    {
     "name": "stderr",
     "output_type": "stream",
     "text": [
      "C:\\Users\\mathi\\AppData\\Local\\Packages\\PythonSoftwareFoundation.Python.3.12_qbz5n2kfra8p0\\LocalCache\\local-packages\\Python312\\site-packages\\sklearn\\neural_network\\_multilayer_perceptron.py:690: ConvergenceWarning: Stochastic Optimizer: Maximum iterations (200) reached and the optimization hasn't converged yet.\n",
      "  warnings.warn(\n",
      "C:\\Users\\mathi\\AppData\\Local\\Packages\\PythonSoftwareFoundation.Python.3.12_qbz5n2kfra8p0\\LocalCache\\local-packages\\Python312\\site-packages\\sklearn\\neural_network\\_multilayer_perceptron.py:1105: DataConversionWarning: A column-vector y was passed when a 1d array was expected. Please change the shape of y to (n_samples, ), for example using ravel().\n",
      "  y = column_or_1d(y, warn=True)\n",
      "C:\\Users\\mathi\\AppData\\Local\\Packages\\PythonSoftwareFoundation.Python.3.12_qbz5n2kfra8p0\\LocalCache\\local-packages\\Python312\\site-packages\\sklearn\\neural_network\\_multilayer_perceptron.py:690: ConvergenceWarning: Stochastic Optimizer: Maximum iterations (200) reached and the optimization hasn't converged yet.\n",
      "  warnings.warn(\n",
      "C:\\Users\\mathi\\AppData\\Local\\Packages\\PythonSoftwareFoundation.Python.3.12_qbz5n2kfra8p0\\LocalCache\\local-packages\\Python312\\site-packages\\sklearn\\neural_network\\_multilayer_perceptron.py:1105: DataConversionWarning: A column-vector y was passed when a 1d array was expected. Please change the shape of y to (n_samples, ), for example using ravel().\n",
      "  y = column_or_1d(y, warn=True)\n"
     ]
    },
    {
     "name": "stdout",
     "output_type": "stream",
     "text": [
      "[0 0 0 1 1 0 0 0 0 0 0 0 0 1 0 0 0 0 0 0 1 1 0 1 1 1 1 0 0 0 1 1 0 1 0 0 0\n",
      " 0 0 1 0 1 1 1 0 1 0 0 1 1 1 1 0 0 1 1 1 1 0 1 0 1 0 1 0 1 1 0 1 0 0 0 0 0\n",
      " 0 1 0 1 1 0 0 0 0 1 1 1 0 0 0 0 0 1 1 0 1 1 0 1 0 1 1 1 0 0 0 1 1 1 0 1 0\n",
      " 0 0 1 1 1 1 0 1 1 1 1 1 1 1 0 1 1 0 1 0 1 1 0 1 1 0 0 1 0 0 0 0 1 0 0 0 0\n",
      " 1 0 0 1 0 1 0 0 0 1 0 0 0 0 0 1 0 0 0 0 0 0 0 1 1 1 1 0 1 1 1 0 0 1 1 0 1\n",
      " 0 0 0 0 0]\n",
      "[[0.72631579 0.27368421]\n",
      " [0.38947368 0.61052632]]\n"
     ]
    },
    {
     "name": "stderr",
     "output_type": "stream",
     "text": [
      "C:\\Users\\mathi\\AppData\\Local\\Packages\\PythonSoftwareFoundation.Python.3.12_qbz5n2kfra8p0\\LocalCache\\local-packages\\Python312\\site-packages\\sklearn\\neural_network\\_multilayer_perceptron.py:690: ConvergenceWarning: Stochastic Optimizer: Maximum iterations (200) reached and the optimization hasn't converged yet.\n",
      "  warnings.warn(\n"
     ]
    }
   ],
   "source": [
    "mlp_sote = MLPClassifier(hidden_layer_sizes=(28,60),random_state= 42)\n",
    "mlp_sote.fit(xsmote,ysmote)\n",
    "\n",
    "taux = cross_val_score(mlp_sote, xsmote, ysmote, cv = 3, scoring='accuracy')\n",
    "print(taux)\n",
    "\n",
    "print(np.mean(taux))\n",
    "\n",
    "predictions = cross_val_predict(mlp_sote, xsmote, ysmote, cv = 3)\n",
    "print(predictions)\n",
    "\n",
    "matrice = confusion_matrix(ysmote,predictions, normalize = \"true\")\n",
    "print(matrice)"
   ]
  },
  {
   "cell_type": "markdown",
   "metadata": {},
   "source": [
    "### Préparation du Script"
   ]
  },
  {
   "cell_type": "code",
   "execution_count": 85,
   "metadata": {},
   "outputs": [],
   "source": [
    "# Enregistrement du modèle \n",
    "\n",
    "dico = {'modele' : random, 'encodeur' : encodeur}\n",
    "\n",
    "pk.dump(dico, open('RandomForest_Besoin_client_3.pkl','wb'))"
   ]
  },
  {
   "cell_type": "code",
   "execution_count": 86,
   "metadata": {},
   "outputs": [],
   "source": [
    "# Récupération des méthodes\n",
    "\n",
    "param = pk.load(open('RandomForest_Besoin_client_3.pkl','rb'))"
   ]
  }
 ],
 "metadata": {
  "kernelspec": {
   "display_name": "Python 3",
   "language": "python",
   "name": "python3"
  },
  "language_info": {
   "codemirror_mode": {
    "name": "ipython",
    "version": 3
   },
   "file_extension": ".py",
   "mimetype": "text/x-python",
   "name": "python",
   "nbconvert_exporter": "python",
   "pygments_lexer": "ipython3",
   "version": "3.12.4"
  }
 },
 "nbformat": 4,
 "nbformat_minor": 2
}
