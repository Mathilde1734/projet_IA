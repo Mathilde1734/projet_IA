{
 "cells": [
  {
   "cell_type": "markdown",
   "metadata": {},
   "source": [
    "# Projet Intelligence Artificielle"
   ]
  },
  {
   "cell_type": "markdown",
   "metadata": {},
   "source": [
    "## Besoin client 3 : Système d'alerte pour les tempêtes "
   ]
  },
  {
   "cell_type": "markdown",
   "metadata": {},
   "source": [
    "### Préparation des données"
   ]
  },
  {
   "cell_type": "code",
   "execution_count": 1,
   "metadata": {},
   "outputs": [],
   "source": [
    "# Importation des librairies nécessaires\n",
    "\n",
    "import pandas as pd\n",
    "import numpy as np\n",
    "from sklearn.preprocessing import OrdinalEncoder\n",
    "from sklearn.ensemble import RandomForestClassifier\n",
    "from sklearn.model_selection import GridSearchCV\n",
    "from sklearn.model_selection import cross_val_score\n",
    "from sklearn.model_selection import cross_val_predict\n",
    "from sklearn.metrics import confusion_matrix\n",
    "from sklearn.model_selection import train_test_split\n",
    "from sklearn.neural_network import MLPClassifier\n",
    "import pickle as pk"
   ]
  },
  {
   "cell_type": "code",
   "execution_count": null,
   "metadata": {},
   "outputs": [],
   "source": [
    "# Importation des bases de données \n",
    "\n",
    "# data_prof = pd.read_csv('./Données/Data_Arbre.csv')\n",
    "data_clean = pd.read_csv(\"./Données/data_clean.csv\", encoding='utf-8', sep=\";\", decimal=\",\")"
   ]
  },
  {
   "cell_type": "code",
   "execution_count": null,
   "metadata": {},
   "outputs": [],
   "source": [
    "# Affichage des premières lignes des données de notre base de données\n",
    "\n",
    "# data_prof.head()\n",
    "data_clean.head()"
   ]
  },
  {
   "cell_type": "code",
   "execution_count": null,
   "metadata": {},
   "outputs": [],
   "source": [
    "# Récupération des colonnes désirées \n",
    "\n",
    "data = data_clean[[\"haut_tot\",\"haut_tronc\",\"tronc_diam\",\"fk_arb_etat\",\"fk_stadedev\",\"age_estim\", \"fk_prec_estim\",\"clc_quartier\", \"clc_secteur\",\"fk_port\",\"fk_pied\",\"fk_situation\",\"fk_revetement\",\"feuillage\"]]\n",
    "data.head()"
   ]
  },
  {
   "cell_type": "code",
   "execution_count": null,
   "metadata": {},
   "outputs": [],
   "source": [
    "# Autre méthode pour récuperer les colonnes désirées\n",
    "\n",
    "colonnes = [\"haut_tot\",\"haut_tronc\",\"tronc_diam\",\"fk_arb_etat\",\"fk_stadedev\",\"age_estim\", \"fk_prec_estim\",\"clc_quartier\", \"clc_secteur\",\"fk_port\",\"fk_pied\",\"fk_situation\",\"fk_revetement\",\"feuillage\"]\n",
    "data_new = data_clean[colonnes]"
   ]
  },
  {
   "cell_type": "code",
   "execution_count": null,
   "metadata": {},
   "outputs": [],
   "source": [
    "# Corrélation entre les variables numériques\n",
    "\n",
    "correlation = data.corr(method='pearson', numeric_only= True).style.background_gradient(cmap='Pastel1')\n",
    "correlation"
   ]
  },
  {
   "cell_type": "code",
   "execution_count": null,
   "metadata": {},
   "outputs": [],
   "source": [
    "# Retrait des lignes dont on ne se sert pas\n",
    "\n",
    "index = data[(data[\"fk_arb_etat\"] == 'SUPPRIMÉ') | \n",
    "             (data[\"fk_arb_etat\"]=='ABATTU') | \n",
    "             (data[\"fk_arb_etat\"]=='EN PLACE') | \n",
    "             (data[\"fk_arb_etat\"]=='REMPLACÉ')].index\n",
    "data.drop(index, inplace = True)\n",
    "data.head()"
   ]
  },
  {
   "cell_type": "code",
   "execution_count": null,
   "metadata": {},
   "outputs": [],
   "source": [
    "# Binarisation des valeurs de fk_arb_etat\n",
    "\n",
    "data.loc[data[\"fk_arb_etat\"] == \"Essouché\",\"fk_arb_etat\"] = 1\n",
    "data.loc[data[\"fk_arb_etat\"] != 1,\"fk_arb_etat\"] = 0\n",
    "data.fk_arb_etat = data.fk_arb_etat.astype(int)"
   ]
  },
  {
   "cell_type": "code",
   "execution_count": null,
   "metadata": {},
   "outputs": [],
   "source": [
    "# Changement des ordinalités dans les colonnes en charactère\n",
    "\n",
    "encodeur = OrdinalEncoder()\n",
    "cols = [\"clc_quartier\", \"clc_secteur\",\"fk_port\",\"fk_pied\",\"fk_situation\",\"fk_revetement\",\"feuillage\"]\n",
    "changement = data[cols]\n",
    "data[cols] = encodeur.fit_transform(changement)"
   ]
  },
  {
   "cell_type": "code",
   "execution_count": null,
   "metadata": {},
   "outputs": [],
   "source": [
    "# Visualisation des données transformées\n",
    "\n",
    "print(data)"
   ]
  },
  {
   "cell_type": "code",
   "execution_count": null,
   "metadata": {},
   "outputs": [],
   "source": [
    "# Nouvelle corrélation entre les variables numériques\n",
    "\n",
    "new_correlation = data.corr(method='pearson', numeric_only= True).style.background_gradient(cmap='Pastel1')\n",
    "new_correlation"
   ]
  },
  {
   "cell_type": "code",
   "execution_count": null,
   "metadata": {},
   "outputs": [],
   "source": [
    "# Classification des données en X\n",
    "\n",
    "x = data[[\"haut_tot\", \"haut_tronc\",\"tronc_diam\",\"clc_quartier\"]]\n",
    "print(x)\n",
    "print(x.shape)"
   ]
  }
 ],
 "metadata": {
  "kernelspec": {
   "display_name": "Python 3",
   "language": "python",
   "name": "python3"
  },
  "language_info": {
   "codemirror_mode": {
    "name": "ipython",
    "version": 3
   },
   "file_extension": ".py",
   "mimetype": "text/x-python",
   "name": "python",
   "nbconvert_exporter": "python",
   "pygments_lexer": "ipython3",
   "version": "3.12.4"
  }
 },
 "nbformat": 4,
 "nbformat_minor": 2
}
